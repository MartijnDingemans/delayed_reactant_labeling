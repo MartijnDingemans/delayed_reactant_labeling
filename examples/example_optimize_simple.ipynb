{
 "cells": [
  {
   "cell_type": "markdown",
   "source": [
    "If we consider the slightly more complex system:\n",
    "\n",
    "A + cat <---> B -> C + cat\n",
    "\n",
    "where labeled reaction A-d10 is added with a time delay."
   ],
   "metadata": {
    "collapsed": false
   }
  },
  {
   "cell_type": "code",
   "execution_count": null,
   "outputs": [],
   "source": [
    "import os\n",
    "\n",
    "import matplotlib.pyplot as plt\n",
    "import numpy as np\n",
    "\n",
    "reactions = [\n",
    "    ('k1', ['A', 'cat'], ['B'],),\n",
    "    ('k-1', ['B'], ['A', 'cat'],),\n",
    "    ('k2', ['B'], ['C', 'cat']),\n",
    "\n",
    "    # labeled\n",
    "    ('k1', ['A-d10', 'cat'], ['B-d10'],),\n",
    "    ('k-1', ['B-d10'], ['A-d10', 'cat'],),\n",
    "    ('k2', ['B-d10'], ['C-d10', 'cat'])\n",
    "]\n",
    "\n",
    "rate_constants_real = {'k1': 0.3, 'k-1': 0.05, 'k2': 0.5}\n",
    "concentration_initial = {'A': 1, 'cat': 1 / 5}\n",
    "concentration_labeled = {'A-d10': 0.5}\n",
    "dilution_factor = 1 / 2\n",
    "time_pre = np.linspace(0, 10, 50)  # low resolution\n",
    "time_post = np.linspace(10, 90, 8 * 50)"
   ],
   "metadata": {
    "collapsed": false
   }
  },
  {
   "cell_type": "code",
   "execution_count": null,
   "outputs": [],
   "source": [
    "from delayed_reactant_labeling.predict_new import DRL\n",
    "\n",
    "drl_real = DRL(rate_constants=rate_constants_real, reactions=reactions)\n",
    "real_data_pre, real_data = drl_real.predict_concentration(\n",
    "    t_eval_pre=time_pre,\n",
    "    t_eval_post=time_post,\n",
    "    dilution_factor=dilution_factor,\n",
    "    initial_concentrations=concentration_initial,\n",
    "    labeled_concentration=concentration_labeled)\n",
    "\n",
    "fig, axs = plt.subplots(1, 2, sharey='row', figsize=(10, 4), layout='tight', width_ratios=(1, 5))\n",
    "real_data_pre.to_pandas().plot('time', ax=axs[0])\n",
    "real_data.to_pandas().plot('time', ax=axs[1])"
   ],
   "metadata": {
    "collapsed": false
   }
  },
  {
   "cell_type": "code",
   "execution_count": null,
   "outputs": [],
   "source": [
    "import polars as pl\n",
    "\n",
    "rng = np.random.default_rng(42)\n",
    "\n",
    "fig, ax = plt.subplots()\n",
    "fake_data = []\n",
    "for col in real_data.columns[:-1]:  # last column contains time array\n",
    "    noise = rng.normal(loc=0, scale=0.10 * real_data[col].mean(), size=(real_data.shape[0]))\n",
    "    fake_col = real_data[col] + noise  # noise is loosely based on intensity\n",
    "    fake_col[fake_col < 0] = 0  # no negative intensity\n",
    "    fake_data.append(fake_col)\n",
    "    ax.scatter(real_data['time'], fake_col, label=col, marker='.')\n",
    "\n",
    "ax.legend(ncol=4)\n",
    "fake_data.append(real_data['time'])\n",
    "fake_data = pl.DataFrame(fake_data, real_data.columns)"
   ],
   "metadata": {
    "collapsed": false
   }
  },
  {
   "cell_type": "code",
   "execution_count": null,
   "outputs": [],
   "source": [
    "import pandas as pd\n",
    "from delayed_reactant_labeling.optimize import RateConstantOptimizerTemplate\n",
    "\n",
    "class RateConstantOptimizer(RateConstantOptimizerTemplate):\n",
    "    @staticmethod\n",
    "    def create_prediction(x: np.ndarray, x_description: list[str]) -> pl.DataFrame:\n",
    "        # this is also the location where the rate constants can be manipulated easily\n",
    "        # e.g. rate_constants['k1'] = 0.1, would fixate this value\n",
    "\n",
    "        rate_constants = pd.Series(x, x_description)\n",
    "        drl = DRL(reactions=reactions, rate_constants=rate_constants)\n",
    "        _, pred_labeled = drl.predict_concentration(\n",
    "            t_eval_pre=time_pre,\n",
    "            t_eval_post=time_post,\n",
    "            initial_concentrations=concentration_initial,\n",
    "            labeled_concentration=concentration_labeled,\n",
    "            dilution_factor=dilution_factor,\n",
    "            rtol=1e-8,\n",
    "            atol=1e-8, )\n",
    "\n",
    "        # the output can also be manipulated before analyzing it further. Allows grouping of certain groups,\n",
    "        # when we know that they are measured as the same compound in the mass spectrometer.\n",
    "        return pred_labeled\n",
    "\n",
    "    @staticmethod\n",
    "    def calculate_curves(data: pl.DataFrame) -> dict[str, pl.Series]:\n",
    "        curves = {}\n",
    "        for chemical in ['A', 'B', 'C']:\n",
    "            chemical_sum = data[[chemical, f'{chemical}-d10']].sum(axis=1)\n",
    "            curves[f'ratio_{chemical}'] = data[chemical] / chemical_sum\n",
    "            # curves[f'TIC_{chemical}'] = data[chemical] / chemical_sum[-50:].mean()\n",
    "            # curves[f'TIC_{chemical}-d10'] = data[f'{chemical}-d10'] / chemical_sum[-50:].mean()\n",
    "        return curves"
   ],
   "metadata": {
    "collapsed": false
   }
  },
  {
   "cell_type": "code",
   "execution_count": null,
   "outputs": [],
   "source": [
    "def METRIC(y_true: np.ndarray, y_pred: np.ndarray) -> float:\n",
    "    return np.average(np.abs(y_pred - y_true), axis=0)\n",
    "\n",
    "RCO = RateConstantOptimizer(raw_weights={}, experimental=fake_data, metric=METRIC)\n",
    "dimension_description = ['k1', 'k-1', 'k2']\n",
    "bounds = [(1e-6, 100),    # k1\n",
    "          (0, 50),        # k-1\n",
    "          (1e-6, 100),]   # k2\n",
    "x0 = [5, 5, 5]\n",
    "\n",
    "path = 'examples_optimization/example_optimize_simple_singular/'\n",
    "RCO.optimize(\n",
    "    path=path,\n",
    "    x0=x0,\n",
    "    bounds=bounds,\n",
    "    x_description=dimension_description,\n",
    "    maxiter=10000,\n",
    "    _overwrite_log=True\n",
    ")"
   ],
   "metadata": {
    "collapsed": false
   }
  },
  {
   "cell_type": "code",
   "execution_count": null,
   "outputs": [],
   "source": [
    "progress = RCO.load_optimization_progress(path)\n",
    "pd.DataFrame([progress.best_X.values, np.array(list(rate_constants_real.values()))], index=['found', 'real'], columns=progress.best_X.index)"
   ],
   "metadata": {
    "collapsed": false
   }
  },
  {
   "cell_type": "code",
   "execution_count": null,
   "outputs": [],
   "source": [
    "fig, axs = plt.subplots(3, 1, tight_layout=True, figsize=(8, 8), squeeze=False)\n",
    "\n",
    "true_curves = RCO.experimental_curves\n",
    "best_pred = RCO.create_prediction(x=progress.best_X, x_description=progress.x_description)\n",
    "errors = RCO.calculate_error_functions(best_pred)\n",
    "errors = RCO.weigh_errors(errors)\n",
    "pred_curves = RCO.calculate_curves(best_pred)\n",
    "\n",
    "for i, chemical in enumerate(['A', 'B', 'C']):\n",
    "        # plot label ratio\n",
    "        axs[i, 0].plot(time_post, pred_curves[f\"ratio_{chemical}\"], color=f\"C{i}\",\n",
    "                       label=f\"{chemical} MAE: {errors[f'ratio_{chemical}']:.3f}\")\n",
    "        axs[i, 0].scatter(time_post, true_curves[f\"ratio_{chemical}\"],\n",
    "                          color=f\"C{i}\", alpha=0.4, marker=\".\", s=1)\n",
    "\n",
    "        # the curve of the labeled compound is the same, by definition, as 1 - unlabeled\n",
    "        axs[i, 0].plot(time_post, 1 - pred_curves[f\"ratio_{chemical}\"], color=\"tab:gray\")\n",
    "        axs[i, 0].scatter(time_post, 1 - true_curves[f\"ratio_{chemical}\"], color=\"tab:gray\", alpha=0.4, marker=\".\", s=1)\n",
    "        axs[i, 0].legend()"
   ],
   "metadata": {
    "collapsed": false
   }
  },
  {
   "cell_type": "code",
   "execution_count": null,
   "outputs": [],
   "source": [
    "from tqdm import tqdm\n",
    "fig, ax = plt.subplots()\n",
    "k1 = np.linspace(0, 10, 50)\n",
    "kr1 = np.linspace(0, 10, 50)\n",
    "k2 = 0.5\n",
    "\n",
    "im = np.zeros((k1.shape[0], kr1.shape[0]))\n",
    "for i in tqdm(range(k1.shape[0])):\n",
    "    for j in range(kr1.shape[0]):\n",
    "        pred = RCO.create_prediction(x=np.array([k1[i], kr1[j], k2]), x_description=['k1', 'k-1', 'k2'])\n",
    "        error = RCO.calculate_total_error(RCO.calculate_error_functions(pred))\n",
    "        im[i, j] = error"
   ],
   "metadata": {
    "collapsed": false
   }
  },
  {
   "cell_type": "code",
   "execution_count": null,
   "outputs": [],
   "source": [
    "im_reduced = np.log10(im)\n",
    "im_reduced_min = ic(np.nanmin(im_reduced))\n",
    "im_reduced[im_reduced > im_reduced_min + 100] = im_reduced_min + 100\n",
    "\n",
    "fig, ax = plt.subplots()\n",
    "image = ax.imshow(im_reduced, origin=\"lower\", aspect=\"auto\")\n",
    "ax.set_xlabel('k1')\n",
    "ax.set_ylabel('k-1')\n",
    "ax.set_title(\"k2 = 0.5\")\n",
    "\n",
    "from mpl_toolkits.axes_grid1 import make_axes_locatable\n",
    "divider = make_axes_locatable(ax)\n",
    "cax = divider.append_axes(\"right\", \"5%\", pad=\"3%\")\n",
    "fig.colorbar(image, cax=cax, label=\"MAE\")"
   ],
   "metadata": {
    "collapsed": false
   }
  },
  {
   "cell_type": "code",
   "execution_count": null,
   "outputs": [],
   "source": [
    "path_multiple = 'examples_optimization/example_optimize_simple_multiple/'\n",
    "RCO.optimize_multiple(path=path_multiple, n_runs=50, bounds=bounds, x_description=dimension_description, n_jobs=-2)"
   ],
   "metadata": {
    "collapsed": false
   }
  },
  {
   "cell_type": "code",
   "execution_count": null,
   "outputs": [],
   "source": [
    "from delayed_reactant_labeling.visualize import VisualizeMultipleSolutions\n",
    "VMS = VisualizeMultipleSolutions('examples_optimization/example_optimize_simple_multiple/optimization_multiple_guess/', 50)"
   ],
   "metadata": {
    "collapsed": false
   }
  },
  {
   "cell_type": "code",
   "execution_count": null,
   "outputs": [],
   "source": [],
   "metadata": {
    "collapsed": false
   }
  },
  {
   "cell_type": "code",
   "execution_count": null,
   "outputs": [],
   "source": [],
   "metadata": {
    "collapsed": false
   }
  }
 ],
 "metadata": {
  "kernelspec": {
   "display_name": "Python 3",
   "language": "python",
   "name": "python3"
  },
  "language_info": {
   "codemirror_mode": {
    "name": "ipython",
    "version": 2
   },
   "file_extension": ".py",
   "mimetype": "text/x-python",
   "name": "python",
   "nbconvert_exporter": "python",
   "pygments_lexer": "ipython2",
   "version": "2.7.6"
  }
 },
 "nbformat": 4,
 "nbformat_minor": 0
}
