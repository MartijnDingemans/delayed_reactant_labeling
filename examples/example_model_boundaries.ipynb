{
 "cells": [
  {
   "cell_type": "markdown",
   "source": [
    "This is an expansion of example_optimize_simple.ipynb"
   ],
   "metadata": {
    "collapsed": false
   }
  },
  {
   "cell_type": "code",
   "execution_count": null,
   "metadata": {
    "collapsed": true
   },
   "outputs": [],
   "source": [
    "import os\n",
    "\n",
    "import matplotlib.pyplot as plt\n",
    "import numpy as np\n",
    "import polars as pl\n",
    "import pandas as pd\n",
    "import seaborn as sns\n",
    "\n",
    "from delayed_reactant_labeling.predict import DRL\n",
    "from delayed_reactant_labeling.optimize import RateConstantOptimizerTemplate\n",
    "from delayed_reactant_labeling.visualize import VisualizeMultipleSolutions"
   ]
  },
  {
   "cell_type": "code",
   "execution_count": null,
   "outputs": [],
   "source": [
    "reactions = [\n",
    "    ('k1', ['A', 'cat'], ['B'],),\n",
    "    ('k-1', ['B'], ['A', 'cat'],),\n",
    "    ('k2', ['B'], ['C', 'cat']),\n",
    "\n",
    "    # labeled\n",
    "    ('k1', ['A-d10', 'cat'], ['B-d10'],),\n",
    "    ('k-1', ['B-d10'], ['A-d10', 'cat'],),\n",
    "    ('k2', ['B-d10'], ['C-d10', 'cat'])\n",
    "]\n",
    "concentration_initial = {'A': 1, 'cat': 1 / 5}\n",
    "concentration_labeled = {'A-d10': 1}\n",
    "dilution_factor = 1\n",
    "time_pre = np.linspace(0, 10, 50)\n",
    "time_post = np.linspace(10, 90, 8 * 50)\n",
    "rate_values = [0.01, 0.1, 1, 5]  # the model will try these values"
   ],
   "metadata": {
    "collapsed": false
   }
  },
  {
   "cell_type": "code",
   "execution_count": null,
   "outputs": [],
   "source": [
    "def explore_boundary(k1, kr1, k2, runs):\n",
    "    path = f'optimization/example_model_boundaries/k1_{k1}_kr1_{kr1}_k2_{k2}/'\n",
    "    os.mkdir(path)\n",
    "\n",
    "    #\"real\" fake data\n",
    "    rate_constants_real = {'k1': k1, 'k-1': kr1, 'k2': k2}\n",
    "    drl_real = DRL(rate_constants=rate_constants_real, reactions=reactions)\n",
    "    real_data_pre, real_data = drl_real.predict_concentration(\n",
    "        t_eval_pre=time_pre,\n",
    "        t_eval_post=time_post,\n",
    "        dilution_factor=dilution_factor,\n",
    "        initial_concentrations=concentration_initial,\n",
    "        labeled_concentration=concentration_labeled)\n",
    "    fig, axs = plt.subplots(1, 2, sharey='row', figsize=(10, 4), layout='tight', width_ratios=(1, 5))\n",
    "    real_data_pre.to_pandas().plot('time', ax=axs[0])\n",
    "    real_data.to_pandas().plot('time', ax=axs[1])\n",
    "    fig.savefig(f'{path}/real_data.png', dpi=500)\n",
    "\n",
    "    real_data = real_data.with_columns([\n",
    "        pl.when(pl.col(col) < 1e-8)\n",
    "            .then(1e-8)\n",
    "            .otherwise(pl.col(col))\n",
    "            .alias(col)\n",
    "        for col in real_data.columns\n",
    "    ])\n",
    "    print('min is:', real_data.to_numpy().min())\n",
    "\n",
    "    class RateConstantOptimizer(RateConstantOptimizerTemplate):\n",
    "        @staticmethod\n",
    "        def create_prediction(x: np.ndarray, x_description: list[str]) -> pl.DataFrame:\n",
    "            rate_constants = pd.Series(x, x_description)\n",
    "            drl = DRL(reactions=reactions, rate_constants=rate_constants)\n",
    "            _, pred_labeled = drl.predict_concentration(\n",
    "                t_eval_pre=time_pre,\n",
    "                t_eval_post=time_post,\n",
    "                initial_concentrations=concentration_initial,\n",
    "                labeled_concentration=concentration_labeled,\n",
    "                dilution_factor=dilution_factor,\n",
    "                rtol=1e-8,\n",
    "                atol=1e-8, )\n",
    "            return pred_labeled\n",
    "\n",
    "        @staticmethod\n",
    "        def calculate_curves(data: pl.DataFrame) -> dict[str, pl.Series]:\n",
    "            curves = {}\n",
    "            for chemical in ['A', 'B', 'C']:\n",
    "                chemical_sum = data[[chemical, f'{chemical}-d10']].sum(axis=1)\n",
    "                curves[f'ratio_{chemical}'] = data[chemical] / chemical_sum\n",
    "            return curves\n",
    "\n",
    "    def METRIC(y_true: np.ndarray, y_pred: np.ndarray) -> float:\n",
    "        return np.average(np.abs(y_pred - y_true), axis=0)\n",
    "\n",
    "    RCO = RateConstantOptimizer(raw_weights={}, experimental=real_data, metric=METRIC)\n",
    "\n",
    "    dimension_description = ['k1', 'k-1', 'k2']\n",
    "    bounds = [(1e-9, 100),    # k1\n",
    "              (0,    100),    # k-1 / kr1 as input to the func.\n",
    "              (1e-9, 100),]   # k2\n",
    "    RCO.optimize_multiple(path=f'{path}/multiple_guess/', n_runs=runs, x_bounds=bounds, x_description=dimension_description, n_jobs=-2, maxiter=1000)"
   ],
   "metadata": {
    "collapsed": false
   }
  },
  {
   "cell_type": "code",
   "execution_count": null,
   "outputs": [],
   "source": [
    "# TODO look at labeled cat\n",
    "# TODO look at implemented TIC\n",
    "# TODO uniform vs loguniform\n",
    "for _k1 in [0.1]:\n",
    "    for _kr1 in rate_values:\n",
    "        for _k2 in rate_values:\n",
    "            try:\n",
    "                explore_boundary(_k1, _kr1, _k2, 100)\n",
    "            except Exception as e:\n",
    "                print(f\"{_k1}, {_kr1}, {_k2} had exception: {e}\")"
   ],
   "metadata": {
    "collapsed": false
   }
  },
  {
   "cell_type": "code",
   "execution_count": 78,
   "outputs": [],
   "source": [
    "def analyze_boundary(k1, kr1, k2):\n",
    "    path = f'optimization/example_model_boundaries/k1_{k1}_kr1_{kr1}_k2_{k2}/'\n",
    "\n",
    "    #\"real\" fake data\n",
    "    rate_constants_real = {'k1': k1, 'k-1': kr1, 'k2': k2}\n",
    "    drl_real = DRL(rate_constants=rate_constants_real, reactions=reactions)\n",
    "    real_data_pre, real_data = drl_real.predict_concentration(\n",
    "        t_eval_pre=time_pre,\n",
    "        t_eval_post=time_post,\n",
    "        dilution_factor=dilution_factor,\n",
    "        initial_concentrations=concentration_initial,\n",
    "        labeled_concentration=concentration_labeled)\n",
    "\n",
    "    # add noise\n",
    "    rng = np.random.default_rng(42)\n",
    "    fake_data = []\n",
    "    for col in real_data.columns[:-1]:  # last column contains time array\n",
    "        noise_dynamic = real_data[col]**0.5 * rng.normal(loc=0, scale=0.04, size=(real_data.shape[0]))  # S/N increases with sqrt(I)\n",
    "        noise_static = rng.normal(loc=0, scale=0.005, size=(real_data.shape[0]))\n",
    "        fake_col = real_data[col] + noise_dynamic + noise_static  # noise is loosely based on intensity\n",
    "        fake_col[fake_col < 1e-10] = 1e-10  # no negative intensity\n",
    "        fake_data.append(fake_col)\n",
    "\n",
    "    fake_data.append(real_data['time'])\n",
    "    fake_data = pl.DataFrame(fake_data, real_data.columns)\n",
    "\n",
    "    class RateConstantOptimizer(RateConstantOptimizerTemplate):\n",
    "        @staticmethod\n",
    "        def create_prediction(x: np.ndarray, x_description: list[str]) -> pl.DataFrame:\n",
    "            rate_constants = pd.Series(x, x_description)\n",
    "            drl = DRL(reactions=reactions, rate_constants=rate_constants)\n",
    "            _, pred_labeled = drl.predict_concentration(\n",
    "                t_eval_pre=time_pre,\n",
    "                t_eval_post=time_post,\n",
    "                initial_concentrations=concentration_initial,\n",
    "                labeled_concentration=concentration_labeled,\n",
    "                dilution_factor=dilution_factor,\n",
    "                rtol=1e-8,\n",
    "                atol=1e-8, )\n",
    "            return pred_labeled\n",
    "\n",
    "        @staticmethod\n",
    "        def calculate_curves(data: pl.DataFrame) -> dict[str, pl.Series]:\n",
    "            curves = {}\n",
    "            for chemical in ['A', 'B', 'C']:\n",
    "                chemical_sum = data[[chemical, f'{chemical}-d10']].sum(axis=1)\n",
    "                curves[f'ratio_{chemical}'] = data[chemical] / chemical_sum\n",
    "            return curves\n",
    "\n",
    "    def METRIC(y_true: np.ndarray, y_pred: np.ndarray) -> float:\n",
    "        return np.average(np.abs(y_pred - y_true), axis=0)\n",
    "\n",
    "    RCO = RateConstantOptimizer(raw_weights={}, experimental=fake_data, metric=METRIC)\n",
    "\n",
    "    VMS = VisualizeMultipleSolutions(path=f'{path}/multiple_guess/')\n",
    "\n",
    "    sorted_errors = VMS.complete_found_error[VMS.complete_found_error.argsort()]\n",
    "    best_rates = VMS.complete_optimal_X[VMS.complete_found_error.argmin()]\n",
    "    plateau_max = sorted_errors[0] + 10 * (sorted_errors[sorted_errors != sorted_errors[0]][0] - sorted_errors[0])\n",
    "    plateau_runs = VMS.complete_found_error < plateau_max\n",
    "\n",
    "    plateau_size = sum(plateau_runs)\n",
    "    plateau_error = VMS.complete_found_error[plateau_runs].mean()\n",
    "    plateau_std = VMS.complete_found_error[plateau_runs].std()\n",
    "    platea_rates = VMS.complete_optimal_X[plateau_runs].mean(axis=0)\n",
    "\n",
    "    pred = RCO.create_prediction(x=[k1, kr1, k2], x_description=['k1', 'k-1', 'k2'])\n",
    "    real_error = RCO.calculate_error_functions(pred)\n",
    "    real_error_weighed = RCO.calculate_total_error(real_error)\n",
    "\n",
    "    results = pd.Series({\n",
    "        \"k1\": k1,\n",
    "        \"kr1\": kr1,\n",
    "        \"k2\": k2,\n",
    "        \"A_td\": pred[\"A\"][40:60].mean(),\n",
    "        \"B_td\": pred[\"B\"][40:60].mean(),\n",
    "        \"C_td\": pred[\"C\"][40:60].mean(),\n",
    "        \"real_error\": real_error_weighed,\n",
    "        \"best_error\": sorted_errors[0],\n",
    "        \"best_rate_k1\": best_rates[0] / k1,\n",
    "        \"best_rate_kr1\": best_rates[1] / kr1,\n",
    "        \"best_rate_k2\": best_rates[2] / k2,\n",
    "        \"best_rate_k1_kr1_ratio\": (best_rates[0] / best_rates[1]) / ( k1 / kr1),\n",
    "        \"plateau_max\": plateau_max,\n",
    "        \"plateau_size\": plateau_size,\n",
    "        \"plateau_error\": plateau_error,\n",
    "        \"plateau_std\": plateau_std,\n",
    "        \"plateau_rate_k1\": platea_rates[0] / k1,\n",
    "        \"plateau_rate_kr1\": platea_rates[1] / kr1,\n",
    "        \"plateau_rate_k2\": platea_rates[2] / k2,\n",
    "        \"plateau_rate_k1_kr1_ratio\": (platea_rates[0] / platea_rates[1]) / ( k1 / kr1),\n",
    "    })\n",
    "    return results"
   ],
   "metadata": {
    "collapsed": false,
    "ExecuteTime": {
     "end_time": "2023-11-02T13:12:18.014278100Z",
     "start_time": "2023-11-02T13:12:17.995071200Z"
    }
   }
  },
  {
   "cell_type": "code",
   "execution_count": 79,
   "outputs": [
    {
     "name": "stderr",
     "output_type": "stream",
     "text": [
      "100it [00:01, 58.31it/s]\n",
      "100it [00:01, 64.34it/s]\n",
      "100it [00:01, 65.76it/s]\n",
      "100it [00:01, 68.83it/s]\n",
      "100it [00:01, 68.10it/s]\n",
      "100it [00:01, 70.19it/s]\n",
      "100it [00:01, 63.37it/s]\n",
      "100it [00:01, 69.46it/s]\n",
      "100it [00:01, 73.58it/s]\n",
      "100it [00:01, 71.03it/s]\n",
      "100it [00:01, 69.74it/s]\n",
      "100it [00:01, 67.03it/s]\n",
      "100it [00:01, 68.40it/s]\n",
      "100it [00:01, 69.36it/s]\n",
      "100it [00:01, 65.47it/s]\n",
      "100it [00:01, 67.75it/s]\n",
      "C:\\Users\\mdingemans\\AppData\\Local\\Temp\\ipykernel_9228\\3580393658.py:83: RuntimeWarning: divide by zero encountered in scalar divide\n",
      "  \"best_rate_k1_kr1_ratio\": (best_rates[0] / best_rates[1]) / ( k1 / kr1),\n"
     ]
    }
   ],
   "source": [
    "data = []\n",
    "for _k1 in [0.1]:\n",
    "    for _kr1 in rate_values:\n",
    "        for _k2 in rate_values:\n",
    "            try:\n",
    "                data.append(analyze_boundary(_k1, _kr1, _k2))\n",
    "            except Exception as e:\n",
    "                print(f\"{_k1}, {_kr1}, {_k2} had exception: {e}\")"
   ],
   "metadata": {
    "collapsed": false,
    "ExecuteTime": {
     "end_time": "2023-11-02T13:12:52.297664500Z",
     "start_time": "2023-11-02T13:12:25.832223200Z"
    }
   }
  },
  {
   "cell_type": "code",
   "execution_count": 80,
   "outputs": [
    {
     "data": {
      "text/plain": "     k1   kr1    k2      A_td      B_td      C_td  real_error    best_error  \\\n0   0.1  0.01  0.01  0.852300  0.128643  0.019057    0.131409  2.756360e-05   \n1   0.1  0.01  0.10  0.800974  0.070200  0.128826    0.095065  7.093300e-06   \n2   0.1  0.01  1.00  0.703064  0.012228  0.284708    0.265939  2.420120e-05   \n3   0.1  0.01  5.00  0.678631  0.002640  0.318729    0.345486  9.254000e-07   \n4   0.1  0.10  0.01  0.912955  0.073858  0.013187    0.169692  6.122000e-06   \n5   0.1  0.10  0.10  0.852609  0.049294  0.098097    0.108879  3.069700e-06   \n6   0.1  0.10  1.00  0.721257  0.011598  0.267145    0.270515  3.846890e-05   \n7   0.1  0.10  5.00  0.683163  0.002611  0.314226    0.345322  9.561000e-06   \n8   0.1  1.00  0.01  0.980487  0.016259  0.003255    0.395408  4.051000e-07   \n9   0.1  1.00  0.10  0.955246  0.014795  0.029959    0.227129  4.220000e-07   \n10  0.1  1.00  1.00  0.826522  0.007635  0.165843    0.303218  1.157661e-04   \n11  0.1  1.00  5.00  0.722348  0.002352  0.275300    0.344612  7.512280e-05   \n12  0.1  5.00  0.01  0.995416  0.003822  0.000762    0.639341  8.530000e-08   \n13  0.1  5.00  0.10  0.988801  0.003733  0.007466    0.463205  3.240000e-08   \n14  0.1  5.00  1.00  0.934846  0.003022  0.062132    0.353630  2.860000e-08   \n15  0.1  5.00  5.00  0.820960  0.001616  0.177425    0.347451  1.758888e-04   \n\n    best_rate_k1  best_rate_kr1  best_rate_k2  best_rate_k1_kr1_ratio  \\\n0       0.999736       1.000400      0.999308                0.999336   \n1       1.000351       1.002324      0.999872                0.998032   \n2       0.989939       0.065932      1.007729               15.014630   \n3       0.998112       0.070878      1.001449               14.082134   \n4       1.000199       1.000200      0.999480                0.999999   \n5       1.000151       1.000170      0.999873                0.999981   \n6       0.983394       0.841036      1.012537                1.169264   \n7       0.980051       0.000207      1.015976             4726.233512   \n8       0.999991       0.999985      1.000314                1.000006   \n9       1.000107       1.000016      0.999907                1.000091   \n10      1.073104       1.084477      0.951357                0.989513   \n11      0.834852       0.025343      1.154154               32.941721   \n12      0.999989       0.999993      0.999991                0.999996   \n13      1.000001       0.999995      0.999993                1.000006   \n14      0.999985       0.999991      1.000009                0.999994   \n15      0.497456       0.000000      1.774400                     inf   \n\n     plateau_max  plateau_size  plateau_error   plateau_std  plateau_rate_k1  \\\n0   1.583406e-04           3.0   4.034043e-05  1.031161e-05         0.999954   \n1   1.715230e-05           7.0   1.119296e-05  2.509735e-06         1.000156   \n2   4.116320e-05          15.0   2.659812e-05  2.543073e-06         0.990998   \n3   1.528400e-06           7.0   9.782429e-07  2.160283e-08         0.997988   \n4   2.934100e-05           6.0   1.142757e-05  4.306504e-06         1.000090   \n5   3.932700e-06           2.0   3.112850e-06  4.315000e-08         1.000099   \n6   1.520284e-03          12.0   2.105653e-04  5.327558e-05         0.910819   \n7   9.581000e-06           6.0   9.563300e-06  1.252996e-09         0.980047   \n8   2.901100e-06           2.0   5.299000e-07  1.248000e-07         1.000051   \n9   6.130000e-07           2.0   4.315500e-07  9.550000e-09         1.000118   \n10  8.345779e-03          28.0   2.924482e-03  2.389654e-03         1.163277   \n11  9.264280e-05           6.0   7.658577e-05  6.542904e-07         0.831766   \n12  1.903000e-07           4.0   9.967500e-08  1.006240e-08         0.999994   \n13  2.094000e-07           4.0   4.977500e-08  1.062153e-08         1.000006   \n14  3.669423e-03          24.0   1.148884e-03  7.051257e-04         0.340392   \n15  9.574188e-04          12.0   5.230916e-04  2.500495e-04         3.570577   \n\n    plateau_rate_kr1  plateau_rate_k2  plateau_rate_k1_kr1_ratio  \n0           0.998765         1.000875                   1.001190  \n1           1.000854         0.999982                   0.999303  \n2           0.160474         1.006758                   6.175437  \n3           0.010126         1.001579                  98.557331  \n4           0.999980         1.000632                   1.000110  \n5           1.000117         0.999952                   0.999983  \n6           0.088833         1.074417                  10.253182  \n7           0.000035         1.015985               28357.299551  \n8           1.000001         1.000018                   1.000050  \n9           1.000031         0.999912                   1.000087  \n10          6.191666        12.512777                   0.187878  \n11          0.004224         1.157922                 196.919718  \n12          0.999995         1.000015                   0.999999  \n13          1.000001         1.000002                   1.000004  \n14          1.538734        23.791930                   0.221216  \n15          5.125837         1.922575                   0.696584  ",
      "text/html": "<div>\n<style scoped>\n    .dataframe tbody tr th:only-of-type {\n        vertical-align: middle;\n    }\n\n    .dataframe tbody tr th {\n        vertical-align: top;\n    }\n\n    .dataframe thead th {\n        text-align: right;\n    }\n</style>\n<table border=\"1\" class=\"dataframe\">\n  <thead>\n    <tr style=\"text-align: right;\">\n      <th></th>\n      <th>k1</th>\n      <th>kr1</th>\n      <th>k2</th>\n      <th>A_td</th>\n      <th>B_td</th>\n      <th>C_td</th>\n      <th>real_error</th>\n      <th>best_error</th>\n      <th>best_rate_k1</th>\n      <th>best_rate_kr1</th>\n      <th>best_rate_k2</th>\n      <th>best_rate_k1_kr1_ratio</th>\n      <th>plateau_max</th>\n      <th>plateau_size</th>\n      <th>plateau_error</th>\n      <th>plateau_std</th>\n      <th>plateau_rate_k1</th>\n      <th>plateau_rate_kr1</th>\n      <th>plateau_rate_k2</th>\n      <th>plateau_rate_k1_kr1_ratio</th>\n    </tr>\n  </thead>\n  <tbody>\n    <tr>\n      <th>0</th>\n      <td>0.1</td>\n      <td>0.01</td>\n      <td>0.01</td>\n      <td>0.852300</td>\n      <td>0.128643</td>\n      <td>0.019057</td>\n      <td>0.131409</td>\n      <td>2.756360e-05</td>\n      <td>0.999736</td>\n      <td>1.000400</td>\n      <td>0.999308</td>\n      <td>0.999336</td>\n      <td>1.583406e-04</td>\n      <td>3.0</td>\n      <td>4.034043e-05</td>\n      <td>1.031161e-05</td>\n      <td>0.999954</td>\n      <td>0.998765</td>\n      <td>1.000875</td>\n      <td>1.001190</td>\n    </tr>\n    <tr>\n      <th>1</th>\n      <td>0.1</td>\n      <td>0.01</td>\n      <td>0.10</td>\n      <td>0.800974</td>\n      <td>0.070200</td>\n      <td>0.128826</td>\n      <td>0.095065</td>\n      <td>7.093300e-06</td>\n      <td>1.000351</td>\n      <td>1.002324</td>\n      <td>0.999872</td>\n      <td>0.998032</td>\n      <td>1.715230e-05</td>\n      <td>7.0</td>\n      <td>1.119296e-05</td>\n      <td>2.509735e-06</td>\n      <td>1.000156</td>\n      <td>1.000854</td>\n      <td>0.999982</td>\n      <td>0.999303</td>\n    </tr>\n    <tr>\n      <th>2</th>\n      <td>0.1</td>\n      <td>0.01</td>\n      <td>1.00</td>\n      <td>0.703064</td>\n      <td>0.012228</td>\n      <td>0.284708</td>\n      <td>0.265939</td>\n      <td>2.420120e-05</td>\n      <td>0.989939</td>\n      <td>0.065932</td>\n      <td>1.007729</td>\n      <td>15.014630</td>\n      <td>4.116320e-05</td>\n      <td>15.0</td>\n      <td>2.659812e-05</td>\n      <td>2.543073e-06</td>\n      <td>0.990998</td>\n      <td>0.160474</td>\n      <td>1.006758</td>\n      <td>6.175437</td>\n    </tr>\n    <tr>\n      <th>3</th>\n      <td>0.1</td>\n      <td>0.01</td>\n      <td>5.00</td>\n      <td>0.678631</td>\n      <td>0.002640</td>\n      <td>0.318729</td>\n      <td>0.345486</td>\n      <td>9.254000e-07</td>\n      <td>0.998112</td>\n      <td>0.070878</td>\n      <td>1.001449</td>\n      <td>14.082134</td>\n      <td>1.528400e-06</td>\n      <td>7.0</td>\n      <td>9.782429e-07</td>\n      <td>2.160283e-08</td>\n      <td>0.997988</td>\n      <td>0.010126</td>\n      <td>1.001579</td>\n      <td>98.557331</td>\n    </tr>\n    <tr>\n      <th>4</th>\n      <td>0.1</td>\n      <td>0.10</td>\n      <td>0.01</td>\n      <td>0.912955</td>\n      <td>0.073858</td>\n      <td>0.013187</td>\n      <td>0.169692</td>\n      <td>6.122000e-06</td>\n      <td>1.000199</td>\n      <td>1.000200</td>\n      <td>0.999480</td>\n      <td>0.999999</td>\n      <td>2.934100e-05</td>\n      <td>6.0</td>\n      <td>1.142757e-05</td>\n      <td>4.306504e-06</td>\n      <td>1.000090</td>\n      <td>0.999980</td>\n      <td>1.000632</td>\n      <td>1.000110</td>\n    </tr>\n    <tr>\n      <th>5</th>\n      <td>0.1</td>\n      <td>0.10</td>\n      <td>0.10</td>\n      <td>0.852609</td>\n      <td>0.049294</td>\n      <td>0.098097</td>\n      <td>0.108879</td>\n      <td>3.069700e-06</td>\n      <td>1.000151</td>\n      <td>1.000170</td>\n      <td>0.999873</td>\n      <td>0.999981</td>\n      <td>3.932700e-06</td>\n      <td>2.0</td>\n      <td>3.112850e-06</td>\n      <td>4.315000e-08</td>\n      <td>1.000099</td>\n      <td>1.000117</td>\n      <td>0.999952</td>\n      <td>0.999983</td>\n    </tr>\n    <tr>\n      <th>6</th>\n      <td>0.1</td>\n      <td>0.10</td>\n      <td>1.00</td>\n      <td>0.721257</td>\n      <td>0.011598</td>\n      <td>0.267145</td>\n      <td>0.270515</td>\n      <td>3.846890e-05</td>\n      <td>0.983394</td>\n      <td>0.841036</td>\n      <td>1.012537</td>\n      <td>1.169264</td>\n      <td>1.520284e-03</td>\n      <td>12.0</td>\n      <td>2.105653e-04</td>\n      <td>5.327558e-05</td>\n      <td>0.910819</td>\n      <td>0.088833</td>\n      <td>1.074417</td>\n      <td>10.253182</td>\n    </tr>\n    <tr>\n      <th>7</th>\n      <td>0.1</td>\n      <td>0.10</td>\n      <td>5.00</td>\n      <td>0.683163</td>\n      <td>0.002611</td>\n      <td>0.314226</td>\n      <td>0.345322</td>\n      <td>9.561000e-06</td>\n      <td>0.980051</td>\n      <td>0.000207</td>\n      <td>1.015976</td>\n      <td>4726.233512</td>\n      <td>9.581000e-06</td>\n      <td>6.0</td>\n      <td>9.563300e-06</td>\n      <td>1.252996e-09</td>\n      <td>0.980047</td>\n      <td>0.000035</td>\n      <td>1.015985</td>\n      <td>28357.299551</td>\n    </tr>\n    <tr>\n      <th>8</th>\n      <td>0.1</td>\n      <td>1.00</td>\n      <td>0.01</td>\n      <td>0.980487</td>\n      <td>0.016259</td>\n      <td>0.003255</td>\n      <td>0.395408</td>\n      <td>4.051000e-07</td>\n      <td>0.999991</td>\n      <td>0.999985</td>\n      <td>1.000314</td>\n      <td>1.000006</td>\n      <td>2.901100e-06</td>\n      <td>2.0</td>\n      <td>5.299000e-07</td>\n      <td>1.248000e-07</td>\n      <td>1.000051</td>\n      <td>1.000001</td>\n      <td>1.000018</td>\n      <td>1.000050</td>\n    </tr>\n    <tr>\n      <th>9</th>\n      <td>0.1</td>\n      <td>1.00</td>\n      <td>0.10</td>\n      <td>0.955246</td>\n      <td>0.014795</td>\n      <td>0.029959</td>\n      <td>0.227129</td>\n      <td>4.220000e-07</td>\n      <td>1.000107</td>\n      <td>1.000016</td>\n      <td>0.999907</td>\n      <td>1.000091</td>\n      <td>6.130000e-07</td>\n      <td>2.0</td>\n      <td>4.315500e-07</td>\n      <td>9.550000e-09</td>\n      <td>1.000118</td>\n      <td>1.000031</td>\n      <td>0.999912</td>\n      <td>1.000087</td>\n    </tr>\n    <tr>\n      <th>10</th>\n      <td>0.1</td>\n      <td>1.00</td>\n      <td>1.00</td>\n      <td>0.826522</td>\n      <td>0.007635</td>\n      <td>0.165843</td>\n      <td>0.303218</td>\n      <td>1.157661e-04</td>\n      <td>1.073104</td>\n      <td>1.084477</td>\n      <td>0.951357</td>\n      <td>0.989513</td>\n      <td>8.345779e-03</td>\n      <td>28.0</td>\n      <td>2.924482e-03</td>\n      <td>2.389654e-03</td>\n      <td>1.163277</td>\n      <td>6.191666</td>\n      <td>12.512777</td>\n      <td>0.187878</td>\n    </tr>\n    <tr>\n      <th>11</th>\n      <td>0.1</td>\n      <td>1.00</td>\n      <td>5.00</td>\n      <td>0.722348</td>\n      <td>0.002352</td>\n      <td>0.275300</td>\n      <td>0.344612</td>\n      <td>7.512280e-05</td>\n      <td>0.834852</td>\n      <td>0.025343</td>\n      <td>1.154154</td>\n      <td>32.941721</td>\n      <td>9.264280e-05</td>\n      <td>6.0</td>\n      <td>7.658577e-05</td>\n      <td>6.542904e-07</td>\n      <td>0.831766</td>\n      <td>0.004224</td>\n      <td>1.157922</td>\n      <td>196.919718</td>\n    </tr>\n    <tr>\n      <th>12</th>\n      <td>0.1</td>\n      <td>5.00</td>\n      <td>0.01</td>\n      <td>0.995416</td>\n      <td>0.003822</td>\n      <td>0.000762</td>\n      <td>0.639341</td>\n      <td>8.530000e-08</td>\n      <td>0.999989</td>\n      <td>0.999993</td>\n      <td>0.999991</td>\n      <td>0.999996</td>\n      <td>1.903000e-07</td>\n      <td>4.0</td>\n      <td>9.967500e-08</td>\n      <td>1.006240e-08</td>\n      <td>0.999994</td>\n      <td>0.999995</td>\n      <td>1.000015</td>\n      <td>0.999999</td>\n    </tr>\n    <tr>\n      <th>13</th>\n      <td>0.1</td>\n      <td>5.00</td>\n      <td>0.10</td>\n      <td>0.988801</td>\n      <td>0.003733</td>\n      <td>0.007466</td>\n      <td>0.463205</td>\n      <td>3.240000e-08</td>\n      <td>1.000001</td>\n      <td>0.999995</td>\n      <td>0.999993</td>\n      <td>1.000006</td>\n      <td>2.094000e-07</td>\n      <td>4.0</td>\n      <td>4.977500e-08</td>\n      <td>1.062153e-08</td>\n      <td>1.000006</td>\n      <td>1.000001</td>\n      <td>1.000002</td>\n      <td>1.000004</td>\n    </tr>\n    <tr>\n      <th>14</th>\n      <td>0.1</td>\n      <td>5.00</td>\n      <td>1.00</td>\n      <td>0.934846</td>\n      <td>0.003022</td>\n      <td>0.062132</td>\n      <td>0.353630</td>\n      <td>2.860000e-08</td>\n      <td>0.999985</td>\n      <td>0.999991</td>\n      <td>1.000009</td>\n      <td>0.999994</td>\n      <td>3.669423e-03</td>\n      <td>24.0</td>\n      <td>1.148884e-03</td>\n      <td>7.051257e-04</td>\n      <td>0.340392</td>\n      <td>1.538734</td>\n      <td>23.791930</td>\n      <td>0.221216</td>\n    </tr>\n    <tr>\n      <th>15</th>\n      <td>0.1</td>\n      <td>5.00</td>\n      <td>5.00</td>\n      <td>0.820960</td>\n      <td>0.001616</td>\n      <td>0.177425</td>\n      <td>0.347451</td>\n      <td>1.758888e-04</td>\n      <td>0.497456</td>\n      <td>0.000000</td>\n      <td>1.774400</td>\n      <td>inf</td>\n      <td>9.574188e-04</td>\n      <td>12.0</td>\n      <td>5.230916e-04</td>\n      <td>2.500495e-04</td>\n      <td>3.570577</td>\n      <td>5.125837</td>\n      <td>1.922575</td>\n      <td>0.696584</td>\n    </tr>\n  </tbody>\n</table>\n</div>"
     },
     "execution_count": 80,
     "metadata": {},
     "output_type": "execute_result"
    }
   ],
   "source": [
    "df = pd.DataFrame(data)\n",
    "df"
   ],
   "metadata": {
    "collapsed": false,
    "ExecuteTime": {
     "end_time": "2023-11-02T13:13:09.272441700Z",
     "start_time": "2023-11-02T13:13:09.258163100Z"
    }
   }
  },
  {
   "cell_type": "code",
   "execution_count": null,
   "outputs": [],
   "source": [
    "    VMS = VisualizeMultipleSolutions(f'{path}/multiple_guess/', max_guess=500)\n",
    "\n",
    "    # error / run\n",
    "    fig, ax = VMS.show_error_all_runs()\n",
    "    ax.set_ylabel(\"error\")\n",
    "    eq = VMS.complete_found_error < 1.005 * VMS.complete_found_error.min()\n",
    "    ax_ins = ax.inset_axes([0.15, 0.5, 0.4, 0.4])\n",
    "    ax_ins.scatter(np.arange(sum(eq)), sorted(VMS.complete_found_error[eq]))\n",
    "    ax.indicate_inset_zoom(ax_ins, edgecolor='black')\n",
    "    ax.set_title(f\"Error using real rate constants: {base_error:.4f}\")\n",
    "    fig.savefig(f'{path}/error_per_run.png', dpi=500)\n",
    "    plt.close(fig)\n",
    "\n",
    "    # k values for best runs\n",
    "    fig, axs = plt.subplots(3, 1, layout='tight', figsize=(8, 6))\n",
    "    for i in range(3):\n",
    "        ax = axs[i]\n",
    "        eq = np.where(VMS.complete_found_error < VMS.complete_found_error.min()*1.005)\n",
    "        best_X = VMS.complete_optimal_X[eq]\n",
    "        sns.histplot(best_X[:, i], ax=ax)\n",
    "        yl, yu = ax.get_ylim()\n",
    "        k = list(rate_constants_real.values())[i]\n",
    "        ax.plot([k, k], [yl, yu], label='true', color=\"tab:orange\")\n",
    "        ax.set_ylim(yl, yu)\n",
    "        ax.set_title(VMS.x_description[i])\n",
    "    axs[0].legend()\n",
    "    fig.savefig(f'{path}/best_ks.png', dpi=500)\n",
    "    plt.close(fig)\n",
    "\n",
    "    fig, ax = VMS.show_rate_constants(max_error=VMS.complete_found_error.min()*1.01, index_constant_values=None)\n",
    "    ax.set_yscale(\"linear\")\n",
    "    ax.scatter([1, 2, 3], list(rate_constants_real.values()), label=\"true\")\n",
    "    ax.legend()\n",
    "    fig.savefig(f'{path}/rate_constants_boxplot.png', dpi=500)\n",
    "    plt.close(fig)"
   ],
   "metadata": {
    "collapsed": false
   }
  }
 ],
 "metadata": {
  "kernelspec": {
   "display_name": "Python 3",
   "language": "python",
   "name": "python3"
  },
  "language_info": {
   "codemirror_mode": {
    "name": "ipython",
    "version": 2
   },
   "file_extension": ".py",
   "mimetype": "text/x-python",
   "name": "python",
   "nbconvert_exporter": "python",
   "pygments_lexer": "ipython2",
   "version": "2.7.6"
  }
 },
 "nbformat": 4,
 "nbformat_minor": 0
}
