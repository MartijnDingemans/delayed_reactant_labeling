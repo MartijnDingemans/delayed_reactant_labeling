{
 "cells": [
  {
   "cell_type": "markdown",
   "source": [
    "This is an expansion of example_optimize_simple.ipynb"
   ],
   "metadata": {
    "collapsed": false
   }
  },
  {
   "cell_type": "code",
   "execution_count": null,
   "metadata": {
    "collapsed": true
   },
   "outputs": [],
   "source": [
    "import os\n",
    "\n",
    "import matplotlib.pyplot as plt\n",
    "import numpy as np\n",
    "import polars as pl\n",
    "import pandas as pd\n",
    "import seaborn as sns\n",
    "\n",
    "from delayed_reactant_labeling.predict import DRL\n",
    "from delayed_reactant_labeling.optimize import RateConstantOptimizerTemplate\n",
    "from delayed_reactant_labeling.visualize import VisualizeMultipleSolutions"
   ]
  },
  {
   "cell_type": "code",
   "execution_count": null,
   "outputs": [],
   "source": [
    "reactions = [\n",
    "    ('k1', ['A', 'cat'], ['B'],),\n",
    "    ('k-1', ['B'], ['A', 'cat'],),\n",
    "    ('k2', ['B'], ['C', 'cat']),\n",
    "\n",
    "    # labeled\n",
    "    ('k1', ['A-d10', 'cat'], ['B-d10'],),\n",
    "    ('k-1', ['B-d10'], ['A-d10', 'cat'],),\n",
    "    ('k2', ['B-d10'], ['C-d10', 'cat'])\n",
    "]\n",
    "concentration_initial = {'A': 1, 'cat': 1 / 5}\n",
    "concentration_labeled = {'A-d10': 0.5}\n",
    "dilution_factor = 1 / 2\n",
    "time_pre = np.linspace(0, 10, 50)\n",
    "time_post = np.linspace(10, 90, 8 * 50)\n",
    "rate_values = [0.1, 1, 10]  # the model will try these values"
   ],
   "metadata": {
    "collapsed": false
   }
  },
  {
   "cell_type": "code",
   "execution_count": null,
   "outputs": [],
   "source": [
    "def explore_boundary(k1, kr1, k2):\n",
    "    path = f'optimization/example_model_boundaries/k1_{k1}_kr1_{kr1}_k2_{k2}/'\n",
    "    os.mkdir(path)\n",
    "\n",
    "    #\"real\" fake data\n",
    "    rate_constants_real = {'k1': k1, 'k-1': kr1, 'k2': k2}\n",
    "    drl_real = DRL(rate_constants=rate_constants_real, reactions=reactions)\n",
    "    real_data_pre, real_data = drl_real.predict_concentration(\n",
    "        t_eval_pre=time_pre,\n",
    "        t_eval_post=time_post,\n",
    "        dilution_factor=dilution_factor,\n",
    "        initial_concentrations=concentration_initial,\n",
    "        labeled_concentration=concentration_labeled)\n",
    "    fig, axs = plt.subplots(1, 2, sharey='row', figsize=(10, 4), layout='tight', width_ratios=(1, 5))\n",
    "    real_data_pre.to_pandas().plot('time', ax=axs[0])\n",
    "    real_data.to_pandas().plot('time', ax=axs[1])\n",
    "    fig.savefig(f'{path}/real_data.png', dpi=500)\n",
    "    plt.close(fig)\n",
    "\n",
    "    print(real_data[-100:].mean())\n",
    "\n",
    "    # add noise\n",
    "    rng = np.random.default_rng(42)\n",
    "    fig, ax = plt.subplots()\n",
    "    fake_data = []\n",
    "    for col in real_data.columns[:-1]:  # last column contains time array\n",
    "        I_eq = real_data[-100:, col].mean()\n",
    "        if I_eq > 1e-9:\n",
    "            noise = rng.normal(loc=0, scale=0.10 * I_eq, size=(real_data.shape[0]))\n",
    "            fake_col = real_data[col] + noise  # noise is loosely based on intensity\n",
    "        else:\n",
    "            fake_col = real_data[col]\n",
    "        fake_col[fake_col < 1e-10] = 1e-10  # no negative intensity\n",
    "        fake_data.append(fake_col)\n",
    "        ax.scatter(real_data['time'], fake_col, label=col, marker='.')\n",
    "\n",
    "    ax.legend(ncol=4)\n",
    "    fake_data.append(real_data['time'])\n",
    "    fake_data = pl.DataFrame(fake_data, real_data.columns)\n",
    "    fig.savefig(f'{path}/fake_data.png', dpi=500)\n",
    "    plt.close(fig)\n",
    "\n",
    "    class RateConstantOptimizer(RateConstantOptimizerTemplate):\n",
    "        @staticmethod\n",
    "        def create_prediction(x: np.ndarray, x_description: list[str]) -> pl.DataFrame:\n",
    "            rate_constants = pd.Series(x, x_description)\n",
    "            drl = DRL(reactions=reactions, rate_constants=rate_constants)\n",
    "            _, pred_labeled = drl.predict_concentration(\n",
    "                t_eval_pre=time_pre,\n",
    "                t_eval_post=time_post,\n",
    "                initial_concentrations=concentration_initial,\n",
    "                labeled_concentration=concentration_labeled,\n",
    "                dilution_factor=dilution_factor,\n",
    "                rtol=1e-8,\n",
    "                atol=1e-8, )\n",
    "            return pred_labeled\n",
    "\n",
    "        @staticmethod\n",
    "        def calculate_curves(data: pl.DataFrame) -> dict[str, pl.Series]:\n",
    "            curves = {}\n",
    "            for chemical in ['A', 'B', 'C']:\n",
    "                chemical_sum = data[[chemical, f'{chemical}-d10']].sum(axis=1)\n",
    "                curves[f'ratio_{chemical}'] = data[chemical] / chemical_sum\n",
    "            return curves\n",
    "\n",
    "    def METRIC(y_true: np.ndarray, y_pred: np.ndarray) -> float:\n",
    "        return np.average(np.abs(y_pred - y_true), axis=0)\n",
    "\n",
    "    RCO = RateConstantOptimizer(raw_weights={}, experimental=fake_data, metric=METRIC)\n",
    "\n",
    "    base_pred = RCO.create_prediction(x=list(rate_constants_real.values()), x_description=list(rate_constants_real.keys()))\n",
    "    base_errors = RCO.calculate_error_functions(base_pred)\n",
    "    base_error = RCO.calculate_total_error(errors=base_errors)\n",
    "\n",
    "    dimension_description = ['k1', 'k-1', 'k2']\n",
    "    bounds = [(1e-9, 100),    # k1\n",
    "              (0,    100),    # k-1 / kr1 as input to the func.\n",
    "              (1e-9, 100),]   # k2\n",
    "    RCO.optimize_multiple(path=f'{path}/multiple_guess/', n_runs=500, x_bounds=bounds, x_description=dimension_description, n_jobs=-2)\n",
    "\n",
    "    VMS = VisualizeMultipleSolutions(f'{path}/multiple_guess/', max_guess=500)\n",
    "\n",
    "    # error / run\n",
    "    fig, ax = VMS.show_error_all_runs()\n",
    "    ax.set_ylabel(\"error\")\n",
    "    eq = VMS.complete_found_error < 1.005 * VMS.complete_found_error.min()\n",
    "    ax_ins = ax.inset_axes([0.15, 0.5, 0.4, 0.4])\n",
    "    ax_ins.scatter(np.arange(sum(eq)), sorted(VMS.complete_found_error[eq]))\n",
    "    ax.indicate_inset_zoom(ax_ins, edgecolor='black')\n",
    "    ax.set_title(f\"Error using real rate constants: {base_error:.4f}\")\n",
    "    fig.savefig(f'{path}/error_per_run.png', dpi=500)\n",
    "    plt.close(fig)\n",
    "\n",
    "    # k values for best runs\n",
    "    fig, axs = plt.subplots(3, 1, layout='tight', figsize=(8, 6))\n",
    "    for i in range(3):\n",
    "        ax = axs[i]\n",
    "        eq = np.where(VMS.complete_found_error < VMS.complete_found_error.min()*1.005)\n",
    "        best_X = VMS.complete_optimal_X[eq]\n",
    "        sns.histplot(best_X[:, i], ax=ax)\n",
    "        yl, yu = ax.get_ylim()\n",
    "        k = list(rate_constants_real.values())[i]\n",
    "        ax.plot([k, k], [yl, yu], label='true', color=\"tab:orange\")\n",
    "        ax.set_ylim(yl, yu)\n",
    "        ax.set_title(VMS.x_description[i])\n",
    "    axs[0].legend()\n",
    "    fig.savefig(f'{path}/best_ks.png', dpi=500)\n",
    "    plt.close(fig)\n",
    "\n",
    "    fig, ax = VMS.show_rate_constants(max_error=VMS.complete_found_error.min()*1.01, index_constant_values=None)\n",
    "    ax.set_yscale(\"linear\")\n",
    "    ax.scatter([1, 2, 3], list(rate_constants_real.values()), label=\"true\")\n",
    "    ax.legend()\n",
    "    fig.savefig(f'{path}/rate_constants_boxplot.png', dpi=500)\n",
    "    plt.close(fig)\n"
   ],
   "metadata": {
    "collapsed": false
   }
  },
  {
   "cell_type": "code",
   "execution_count": null,
   "outputs": [],
   "source": [
    "for k1 in rate_values:\n",
    "    for kr1 in rate_values:\n",
    "        for k2 in rate_values:\n",
    "            explore_boundary(k1, kr1, k2)"
   ],
   "metadata": {
    "collapsed": false,
    "is_executing": true
   }
  },
  {
   "cell_type": "code",
   "execution_count": null,
   "outputs": [],
   "source": [],
   "metadata": {
    "collapsed": false
   }
  }
 ],
 "metadata": {
  "kernelspec": {
   "display_name": "Python 3",
   "language": "python",
   "name": "python3"
  },
  "language_info": {
   "codemirror_mode": {
    "name": "ipython",
    "version": 2
   },
   "file_extension": ".py",
   "mimetype": "text/x-python",
   "name": "python",
   "nbconvert_exporter": "python",
   "pygments_lexer": "ipython2",
   "version": "2.7.6"
  }
 },
 "nbformat": 4,
 "nbformat_minor": 0
}
