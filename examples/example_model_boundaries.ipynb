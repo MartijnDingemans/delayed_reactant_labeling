{
 "cells": [
  {
   "cell_type": "markdown",
   "source": [
    "This is an expansion of example_optimize_simple.ipynb"
   ],
   "metadata": {
    "collapsed": false
   }
  },
  {
   "cell_type": "code",
   "execution_count": 51,
   "metadata": {
    "collapsed": true,
    "ExecuteTime": {
     "end_time": "2023-11-01T10:31:44.633662500Z",
     "start_time": "2023-11-01T10:31:44.603257700Z"
    }
   },
   "outputs": [],
   "source": [
    "import os\n",
    "\n",
    "import matplotlib.pyplot as plt\n",
    "import numpy as np\n",
    "import polars as pl\n",
    "import pandas as pd\n",
    "import seaborn as sns\n",
    "\n",
    "from delayed_reactant_labeling.predict import DRL\n",
    "from delayed_reactant_labeling.optimize import RateConstantOptimizerTemplate\n",
    "from delayed_reactant_labeling.visualize import VisualizeMultipleSolutions"
   ]
  },
  {
   "cell_type": "code",
   "execution_count": 52,
   "outputs": [],
   "source": [
    "reactions = [\n",
    "    ('k1', ['A', 'cat'], ['B'],),\n",
    "    ('k-1', ['B'], ['A', 'cat'],),\n",
    "    ('k2', ['B'], ['C', 'cat']),\n",
    "\n",
    "    # labeled\n",
    "    ('k1', ['A-d10', 'cat'], ['B-d10'],),\n",
    "    ('k-1', ['B-d10'], ['A-d10', 'cat'],),\n",
    "    ('k2', ['B-d10'], ['C-d10', 'cat'])\n",
    "]\n",
    "concentration_initial = {'A': 1, 'cat': 1 / 5}\n",
    "concentration_labeled = {'A-d10': 1}\n",
    "dilution_factor = 1  # ideal situation: we achieve perfect mixing without dilution\n",
    "time_pre = np.linspace(0, 10, 50)\n",
    "time_post = np.linspace(10, 90, 8 * 50)\n",
    "rate_values = [0.1, 1, 10]  # the model will try these values"
   ],
   "metadata": {
    "collapsed": false,
    "ExecuteTime": {
     "end_time": "2023-11-01T10:31:45.360462500Z",
     "start_time": "2023-11-01T10:31:45.349744Z"
    }
   }
  },
  {
   "cell_type": "code",
   "execution_count": 74,
   "outputs": [],
   "source": [
    "def explore_boundary(k1, kr1, k2):\n",
    "    path = f'optimization/example_model_boundaries/k1_{k1}_kr1_{kr1}_k2_{k2}/'\n",
    "    os.mkdir(path)\n",
    "\n",
    "    #\"real\" fake data\n",
    "    rate_constants_real = {'k1': k1, 'k-1': kr1, 'k2': k2}\n",
    "    drl_real = DRL(rate_constants=rate_constants_real, reactions=reactions)\n",
    "    real_data_pre, real_data = drl_real.predict_concentration(\n",
    "        t_eval_pre=time_pre,\n",
    "        t_eval_post=time_post,\n",
    "        dilution_factor=dilution_factor,\n",
    "        initial_concentrations=concentration_initial,\n",
    "        labeled_concentration=concentration_labeled)\n",
    "    fig, axs = plt.subplots(1, 2, sharey='row', figsize=(10, 4), layout='tight', width_ratios=(1, 5))\n",
    "    real_data_pre.to_pandas().plot('time', ax=axs[0])\n",
    "    real_data.to_pandas().plot('time', ax=axs[1])\n",
    "    fig.savefig(f'{path}/real_data.png', dpi=500)\n",
    "\n",
    "    # add noise\n",
    "    rng = np.random.default_rng(42)\n",
    "    ax = axs[1]\n",
    "    fake_data = []\n",
    "    for col in real_data.columns[:-1]:  # last column contains time array\n",
    "        noise_dynamic = rng.normal(loc=1, scale=0.06, size=real_data.shape[0])  # multiplied with intensity of signal\n",
    "        noise_static =  rng.normal(loc=0, scale=0.01, size=real_data.shape[0])  # base noise\n",
    "        fake_col = real_data[col]*noise_dynamic + noise_static\n",
    "\n",
    "        fake_col[fake_col < 1e-10] = 1e-10  # no negative intensity\n",
    "        fake_data.append(fake_col)\n",
    "        ax.scatter(real_data['time'], fake_col, marker='.')\n",
    "\n",
    "    fake_data.append(real_data['time'])\n",
    "    fake_data = pl.DataFrame(fake_data, real_data.columns)\n",
    "    fig.savefig(f'{path}/fake_data.png', dpi=500)\n",
    "    plt.close(fig)\n",
    "\n",
    "    class RateConstantOptimizer(RateConstantOptimizerTemplate):\n",
    "        @staticmethod\n",
    "        def create_prediction(x: np.ndarray, x_description: list[str]) -> pl.DataFrame:\n",
    "            rate_constants = pd.Series(x, x_description)\n",
    "            drl = DRL(reactions=reactions, rate_constants=rate_constants)\n",
    "            _, pred_labeled = drl.predict_concentration(\n",
    "                t_eval_pre=time_pre,\n",
    "                t_eval_post=time_post,\n",
    "                initial_concentrations=concentration_initial,\n",
    "                labeled_concentration=concentration_labeled,\n",
    "                dilution_factor=dilution_factor,\n",
    "                rtol=1e-8,\n",
    "                atol=1e-8, )\n",
    "            return pred_labeled\n",
    "\n",
    "        @staticmethod\n",
    "        def calculate_curves(data: pl.DataFrame) -> dict[str, pl.Series]:\n",
    "            curves = {}\n",
    "            for chemical in ['A', 'B', 'C']:\n",
    "                chemical_sum = data[[chemical, f'{chemical}-d10']].sum(axis=1)\n",
    "                curves[f'ratio_{chemical}'] = data[chemical] / chemical_sum\n",
    "            return curves\n",
    "\n",
    "    def METRIC(y_true: np.ndarray, y_pred: np.ndarray) -> float:\n",
    "        return np.average(np.abs(y_pred - y_true), axis=0)\n",
    "\n",
    "    RCO = RateConstantOptimizer(raw_weights={}, experimental=fake_data, metric=METRIC)\n",
    "\n",
    "    dimension_description = ['k1', 'k-1', 'k2']\n",
    "    bounds = [(1e-9, 100),    # k1\n",
    "              (0,    100),    # k-1 / kr1 as input to the func.\n",
    "              (1e-9, 100),]   # k2\n",
    "\n",
    "    RCO.optimize_multiple(path=f'{path}/multiple_guess/', n_runs=500, x_bounds=bounds, x_description=dimension_description, n_jobs=-2, maxiter=1000)\n"
   ],
   "metadata": {
    "collapsed": false,
    "ExecuteTime": {
     "end_time": "2023-11-01T10:54:49.939389700Z",
     "start_time": "2023-11-01T10:54:49.933908800Z"
    }
   }
  },
  {
   "cell_type": "code",
   "execution_count": 76,
   "outputs": [
    {
     "name": "stdout",
     "output_type": "stream",
     "text": [
      "[Parallel(n_jobs=-2)]: Using backend LokyBackend with 5 concurrent workers.\n",
      "[Parallel(n_jobs=-2)]: Done   1 tasks      | elapsed:    4.2s\n",
      "[Parallel(n_jobs=-2)]: Done   2 tasks      | elapsed:    5.5s\n",
      "[Parallel(n_jobs=-2)]: Done   3 tasks      | elapsed:    5.5s\n",
      "[Parallel(n_jobs=-2)]: Done   4 tasks      | elapsed:    6.4s\n",
      "[Parallel(n_jobs=-2)]: Done   5 tasks      | elapsed:    7.0s\n",
      "[Parallel(n_jobs=-2)]: Done   6 tasks      | elapsed:    7.5s\n",
      "[Parallel(n_jobs=-2)]: Done   7 tasks      | elapsed:    7.9s\n",
      "[Parallel(n_jobs=-2)]: Done   8 tasks      | elapsed:    8.4s\n",
      "[Parallel(n_jobs=-2)]: Done   9 tasks      | elapsed:    8.5s\n",
      "[Parallel(n_jobs=-2)]: Done  10 tasks      | elapsed:    8.9s\n",
      "[Parallel(n_jobs=-2)]: Done  11 tasks      | elapsed:    9.3s\n",
      "[Parallel(n_jobs=-2)]: Done  12 tasks      | elapsed:    9.5s\n",
      "[Parallel(n_jobs=-2)]: Done  13 tasks      | elapsed:   10.3s\n",
      "[Parallel(n_jobs=-2)]: Done  14 tasks      | elapsed:   10.4s\n",
      "[Parallel(n_jobs=-2)]: Done  15 tasks      | elapsed:   10.8s\n",
      "[Parallel(n_jobs=-2)]: Done  16 tasks      | elapsed:   11.0s\n",
      "[Parallel(n_jobs=-2)]: Done  17 tasks      | elapsed:   11.6s\n",
      "[Parallel(n_jobs=-2)]: Done  18 tasks      | elapsed:   12.1s\n",
      "[Parallel(n_jobs=-2)]: Done  19 tasks      | elapsed:   12.3s\n",
      "[Parallel(n_jobs=-2)]: Done  20 tasks      | elapsed:   12.7s\n",
      "[Parallel(n_jobs=-2)]: Done  21 tasks      | elapsed:   14.5s\n",
      "[Parallel(n_jobs=-2)]: Done  22 tasks      | elapsed:   15.1s\n",
      "[Parallel(n_jobs=-2)]: Done  23 tasks      | elapsed:   15.7s\n",
      "[Parallel(n_jobs=-2)]: Done  24 tasks      | elapsed:   16.2s\n",
      "[Parallel(n_jobs=-2)]: Done  25 tasks      | elapsed:   17.5s\n",
      "[Parallel(n_jobs=-2)]: Done  26 tasks      | elapsed:   18.9s\n",
      "[Parallel(n_jobs=-2)]: Done  27 tasks      | elapsed:   19.8s\n",
      "[Parallel(n_jobs=-2)]: Done  28 tasks      | elapsed:   20.0s\n",
      "[Parallel(n_jobs=-2)]: Done  29 tasks      | elapsed:   20.5s\n",
      "[Parallel(n_jobs=-2)]: Done  30 tasks      | elapsed:   20.7s\n",
      "[Parallel(n_jobs=-2)]: Done  31 tasks      | elapsed:   21.1s\n",
      "[Parallel(n_jobs=-2)]: Done  32 tasks      | elapsed:   21.6s\n",
      "[Parallel(n_jobs=-2)]: Done  33 tasks      | elapsed:   21.6s\n",
      "[Parallel(n_jobs=-2)]: Done  34 tasks      | elapsed:   21.6s\n",
      "[Parallel(n_jobs=-2)]: Done  35 tasks      | elapsed:   21.8s\n",
      "[Parallel(n_jobs=-2)]: Done  36 tasks      | elapsed:   23.0s\n",
      "[Parallel(n_jobs=-2)]: Done  37 tasks      | elapsed:   23.4s\n",
      "[Parallel(n_jobs=-2)]: Done  38 tasks      | elapsed:   26.5s\n",
      "[Parallel(n_jobs=-2)]: Done  39 tasks      | elapsed:   27.1s\n",
      "[Parallel(n_jobs=-2)]: Done  40 tasks      | elapsed:   27.7s\n",
      "[Parallel(n_jobs=-2)]: Done  41 tasks      | elapsed:   27.9s\n",
      "[Parallel(n_jobs=-2)]: Done  42 tasks      | elapsed:   28.1s\n",
      "[Parallel(n_jobs=-2)]: Done  43 tasks      | elapsed:   29.4s\n",
      "[Parallel(n_jobs=-2)]: Done  44 tasks      | elapsed:   29.9s\n",
      "[Parallel(n_jobs=-2)]: Done  45 tasks      | elapsed:   30.3s\n",
      "[Parallel(n_jobs=-2)]: Done  46 tasks      | elapsed:   30.7s\n",
      "[Parallel(n_jobs=-2)]: Done  47 tasks      | elapsed:   31.0s\n",
      "[Parallel(n_jobs=-2)]: Done  48 tasks      | elapsed:   31.5s\n",
      "[Parallel(n_jobs=-2)]: Done  49 tasks      | elapsed:   32.0s\n",
      "[Parallel(n_jobs=-2)]: Done  50 tasks      | elapsed:   32.1s\n",
      "[Parallel(n_jobs=-2)]: Done  51 tasks      | elapsed:   32.8s\n",
      "[Parallel(n_jobs=-2)]: Done  52 tasks      | elapsed:   32.9s\n",
      "[Parallel(n_jobs=-2)]: Done  53 tasks      | elapsed:   33.5s\n",
      "[Parallel(n_jobs=-2)]: Done  54 tasks      | elapsed:   33.7s\n",
      "[Parallel(n_jobs=-2)]: Done  55 tasks      | elapsed:   33.9s\n",
      "[Parallel(n_jobs=-2)]: Done  56 tasks      | elapsed:   34.0s\n",
      "[Parallel(n_jobs=-2)]: Done  57 tasks      | elapsed:   34.1s\n",
      "[Parallel(n_jobs=-2)]: Done  58 tasks      | elapsed:   34.3s\n",
      "[Parallel(n_jobs=-2)]: Done  59 tasks      | elapsed:   35.1s\n",
      "[Parallel(n_jobs=-2)]: Done  60 tasks      | elapsed:   35.2s\n",
      "[Parallel(n_jobs=-2)]: Done  61 tasks      | elapsed:   36.0s\n",
      "[Parallel(n_jobs=-2)]: Done  62 tasks      | elapsed:   36.0s\n",
      "[Parallel(n_jobs=-2)]: Done  63 tasks      | elapsed:   36.1s\n",
      "[Parallel(n_jobs=-2)]: Done  64 tasks      | elapsed:   36.2s\n",
      "[Parallel(n_jobs=-2)]: Done  65 tasks      | elapsed:   36.8s\n",
      "[Parallel(n_jobs=-2)]: Done  66 tasks      | elapsed:   38.1s\n",
      "[Parallel(n_jobs=-2)]: Done  67 tasks      | elapsed:   39.0s\n",
      "[Parallel(n_jobs=-2)]: Done  68 tasks      | elapsed:   39.8s\n",
      "[Parallel(n_jobs=-2)]: Done  69 tasks      | elapsed:   40.5s\n",
      "[Parallel(n_jobs=-2)]: Done  70 tasks      | elapsed:   42.1s\n",
      "[Parallel(n_jobs=-2)]: Done  71 tasks      | elapsed:   43.3s\n",
      "[Parallel(n_jobs=-2)]: Done  72 tasks      | elapsed:   43.5s\n",
      "[Parallel(n_jobs=-2)]: Done  73 tasks      | elapsed:   45.8s\n",
      "[Parallel(n_jobs=-2)]: Done  74 tasks      | elapsed:   47.0s\n",
      "[Parallel(n_jobs=-2)]: Done  75 tasks      | elapsed:   47.8s\n",
      "[Parallel(n_jobs=-2)]: Done  76 tasks      | elapsed:   48.5s\n",
      "[Parallel(n_jobs=-2)]: Done  77 tasks      | elapsed:   48.7s\n",
      "[Parallel(n_jobs=-2)]: Done  78 tasks      | elapsed:   50.8s\n",
      "[Parallel(n_jobs=-2)]: Done  79 tasks      | elapsed:   52.6s\n",
      "[Parallel(n_jobs=-2)]: Done  80 tasks      | elapsed:   52.9s\n",
      "[Parallel(n_jobs=-2)]: Done  81 tasks      | elapsed:   53.0s\n",
      "[Parallel(n_jobs=-2)]: Done  82 tasks      | elapsed:   53.9s\n",
      "[Parallel(n_jobs=-2)]: Done  83 tasks      | elapsed:   54.0s\n",
      "[Parallel(n_jobs=-2)]: Done  84 tasks      | elapsed:   54.1s\n",
      "[Parallel(n_jobs=-2)]: Done  85 tasks      | elapsed:   54.6s\n",
      "[Parallel(n_jobs=-2)]: Done  86 tasks      | elapsed:   55.1s\n",
      "[Parallel(n_jobs=-2)]: Done  87 tasks      | elapsed:   55.5s\n",
      "[Parallel(n_jobs=-2)]: Done  88 tasks      | elapsed:   55.5s\n",
      "[Parallel(n_jobs=-2)]: Done  89 tasks      | elapsed:   56.0s\n",
      "[Parallel(n_jobs=-2)]: Done  90 tasks      | elapsed:   56.4s\n",
      "[Parallel(n_jobs=-2)]: Done  91 tasks      | elapsed:   58.3s\n",
      "[Parallel(n_jobs=-2)]: Done  92 tasks      | elapsed:  1.2min\n",
      "[Parallel(n_jobs=-2)]: Done  93 tasks      | elapsed:  1.2min\n",
      "[Parallel(n_jobs=-2)]: Done  94 tasks      | elapsed:  1.3min\n",
      "[Parallel(n_jobs=-2)]: Done  95 tasks      | elapsed:  1.3min\n"
     ]
    },
    {
     "ename": "KeyboardInterrupt",
     "evalue": "",
     "output_type": "error",
     "traceback": [
      "\u001B[1;31m---------------------------------------------------------------------------\u001B[0m",
      "\u001B[1;31mKeyboardInterrupt\u001B[0m                         Traceback (most recent call last)",
      "Cell \u001B[1;32mIn[76], line 5\u001B[0m\n\u001B[0;32m      3\u001B[0m \u001B[38;5;28;01mfor\u001B[39;00m k2 \u001B[38;5;129;01min\u001B[39;00m rate_values:\n\u001B[0;32m      4\u001B[0m     \u001B[38;5;28;01mtry\u001B[39;00m:\n\u001B[1;32m----> 5\u001B[0m         \u001B[43mexplore_boundary\u001B[49m\u001B[43m(\u001B[49m\u001B[43mk1\u001B[49m\u001B[43m,\u001B[49m\u001B[43m \u001B[49m\u001B[43mkr1\u001B[49m\u001B[43m,\u001B[49m\u001B[43m \u001B[49m\u001B[43mk2\u001B[49m\u001B[43m)\u001B[49m\n\u001B[0;32m      6\u001B[0m     \u001B[38;5;28;01mexcept\u001B[39;00m \u001B[38;5;167;01mException\u001B[39;00m \u001B[38;5;28;01mas\u001B[39;00m e:\n\u001B[0;32m      7\u001B[0m         \u001B[38;5;28mprint\u001B[39m(e)\n",
      "Cell \u001B[1;32mIn[74], line 70\u001B[0m, in \u001B[0;36mexplore_boundary\u001B[1;34m(k1, kr1, k2)\u001B[0m\n\u001B[0;32m     65\u001B[0m dimension_description \u001B[38;5;241m=\u001B[39m [\u001B[38;5;124m'\u001B[39m\u001B[38;5;124mk1\u001B[39m\u001B[38;5;124m'\u001B[39m, \u001B[38;5;124m'\u001B[39m\u001B[38;5;124mk-1\u001B[39m\u001B[38;5;124m'\u001B[39m, \u001B[38;5;124m'\u001B[39m\u001B[38;5;124mk2\u001B[39m\u001B[38;5;124m'\u001B[39m]\n\u001B[0;32m     66\u001B[0m bounds \u001B[38;5;241m=\u001B[39m [(\u001B[38;5;241m1e-9\u001B[39m, \u001B[38;5;241m100\u001B[39m),    \u001B[38;5;66;03m# k1\u001B[39;00m\n\u001B[0;32m     67\u001B[0m           (\u001B[38;5;241m0\u001B[39m,    \u001B[38;5;241m100\u001B[39m),    \u001B[38;5;66;03m# k-1 / kr1 as input to the func.\u001B[39;00m\n\u001B[0;32m     68\u001B[0m           (\u001B[38;5;241m1e-9\u001B[39m, \u001B[38;5;241m100\u001B[39m),]   \u001B[38;5;66;03m# k2\u001B[39;00m\n\u001B[1;32m---> 70\u001B[0m \u001B[43mRCO\u001B[49m\u001B[38;5;241;43m.\u001B[39;49m\u001B[43moptimize_multiple\u001B[49m\u001B[43m(\u001B[49m\u001B[43mpath\u001B[49m\u001B[38;5;241;43m=\u001B[39;49m\u001B[38;5;124;43mf\u001B[39;49m\u001B[38;5;124;43m'\u001B[39;49m\u001B[38;5;132;43;01m{\u001B[39;49;00m\u001B[43mpath\u001B[49m\u001B[38;5;132;43;01m}\u001B[39;49;00m\u001B[38;5;124;43m/multiple_guess/\u001B[39;49m\u001B[38;5;124;43m'\u001B[39;49m\u001B[43m,\u001B[49m\u001B[43m \u001B[49m\u001B[43mn_runs\u001B[49m\u001B[38;5;241;43m=\u001B[39;49m\u001B[38;5;241;43m500\u001B[39;49m\u001B[43m,\u001B[49m\u001B[43m \u001B[49m\u001B[43mx_bounds\u001B[49m\u001B[38;5;241;43m=\u001B[39;49m\u001B[43mbounds\u001B[49m\u001B[43m,\u001B[49m\u001B[43m \u001B[49m\u001B[43mx_description\u001B[49m\u001B[38;5;241;43m=\u001B[39;49m\u001B[43mdimension_description\u001B[49m\u001B[43m,\u001B[49m\u001B[43m \u001B[49m\u001B[43mn_jobs\u001B[49m\u001B[38;5;241;43m=\u001B[39;49m\u001B[38;5;241;43m-\u001B[39;49m\u001B[38;5;241;43m2\u001B[39;49m\u001B[43m)\u001B[49m\n",
      "File \u001B[1;32m~\\delayed_reactant_labeling\\src\\delayed_reactant_labeling\\optimize.py:299\u001B[0m, in \u001B[0;36mRateConstantOptimizerTemplate.optimize_multiple\u001B[1;34m(self, path, n_runs, x_description, x_bounds, x0_bounds, x0_min, n_jobs, **optimize_kwargs)\u001B[0m\n\u001B[0;32m    295\u001B[0m     x0_bounds \u001B[38;5;241m=\u001B[39m deepcopy(x_bounds)\n\u001B[0;32m    297\u001B[0m x0_bounds \u001B[38;5;241m=\u001B[39m [(lb, ub,) \u001B[38;5;28;01mif\u001B[39;00m lb \u001B[38;5;241m>\u001B[39m x0_min \u001B[38;5;28;01melse\u001B[39;00m (x0_min, ub) \u001B[38;5;28;01mfor\u001B[39;00m lb, ub \u001B[38;5;129;01min\u001B[39;00m x0_bounds]\n\u001B[1;32m--> 299\u001B[0m \u001B[43mParallel\u001B[49m\u001B[43m(\u001B[49m\u001B[43mn_jobs\u001B[49m\u001B[38;5;241;43m=\u001B[39;49m\u001B[43mn_jobs\u001B[49m\u001B[43m,\u001B[49m\u001B[43m \u001B[49m\u001B[43mverbose\u001B[49m\u001B[38;5;241;43m=\u001B[39;49m\u001B[38;5;241;43m100\u001B[39;49m\u001B[43m)\u001B[49m\u001B[43m(\u001B[49m\n\u001B[0;32m    300\u001B[0m \u001B[43m    \u001B[49m\u001B[43mdelayed\u001B[49m\u001B[43m(\u001B[49m\u001B[38;5;28;43mself\u001B[39;49m\u001B[38;5;241;43m.\u001B[39;49m\u001B[43m_mp_work_list\u001B[49m\u001B[43m)\u001B[49m\u001B[43m(\u001B[49m\n\u001B[0;32m    301\u001B[0m \u001B[43m        \u001B[49m\u001B[43mseed\u001B[49m\u001B[38;5;241;43m=\u001B[39;49m\u001B[43mseed\u001B[49m\u001B[43m,\u001B[49m\n\u001B[0;32m    302\u001B[0m \u001B[43m        \u001B[49m\u001B[43mx_description\u001B[49m\u001B[38;5;241;43m=\u001B[39;49m\u001B[43mx_description\u001B[49m\u001B[43m,\u001B[49m\n\u001B[0;32m    303\u001B[0m \u001B[43m        \u001B[49m\u001B[43mx_bounds\u001B[49m\u001B[38;5;241;43m=\u001B[39;49m\u001B[43mx_bounds\u001B[49m\u001B[43m,\u001B[49m\n\u001B[0;32m    304\u001B[0m \u001B[43m        \u001B[49m\u001B[43mx0_bounds\u001B[49m\u001B[38;5;241;43m=\u001B[39;49m\u001B[43mx0_bounds\u001B[49m\u001B[43m,\u001B[49m\n\u001B[0;32m    305\u001B[0m \u001B[43m        \u001B[49m\u001B[43mpath\u001B[49m\u001B[38;5;241;43m=\u001B[39;49m\u001B[43mpath\u001B[49m\u001B[43m,\u001B[49m\n\u001B[0;32m    306\u001B[0m \u001B[43m        \u001B[49m\u001B[43moptimize_kwargs\u001B[49m\u001B[38;5;241;43m=\u001B[39;49m\u001B[43moptimize_kwargs\u001B[49m\n\u001B[0;32m    307\u001B[0m \u001B[43m    \u001B[49m\u001B[43m)\u001B[49m\n\u001B[0;32m    308\u001B[0m \u001B[43m    \u001B[49m\u001B[38;5;28;43;01mfor\u001B[39;49;00m\u001B[43m \u001B[49m\u001B[43mseed\u001B[49m\u001B[43m \u001B[49m\u001B[38;5;129;43;01min\u001B[39;49;00m\u001B[43m \u001B[49m\u001B[38;5;28;43mrange\u001B[39;49m\u001B[43m(\u001B[49m\u001B[43mstart_seed\u001B[49m\u001B[43m,\u001B[49m\u001B[43m \u001B[49m\u001B[43mstart_seed\u001B[49m\u001B[43m \u001B[49m\u001B[38;5;241;43m+\u001B[39;49m\u001B[43m \u001B[49m\u001B[43mn_runs\u001B[49m\u001B[43m)\u001B[49m\n\u001B[0;32m    309\u001B[0m \u001B[43m\u001B[49m\u001B[43m)\u001B[49m\n",
      "File \u001B[1;32m~\\delayed_reactant_labeling\\venv311\\Lib\\site-packages\\joblib\\parallel.py:1952\u001B[0m, in \u001B[0;36mParallel.__call__\u001B[1;34m(self, iterable)\u001B[0m\n\u001B[0;32m   1946\u001B[0m \u001B[38;5;66;03m# The first item from the output is blank, but it makes the interpreter\u001B[39;00m\n\u001B[0;32m   1947\u001B[0m \u001B[38;5;66;03m# progress until it enters the Try/Except block of the generator and\u001B[39;00m\n\u001B[0;32m   1948\u001B[0m \u001B[38;5;66;03m# reach the first `yield` statement. This starts the aynchronous\u001B[39;00m\n\u001B[0;32m   1949\u001B[0m \u001B[38;5;66;03m# dispatch of the tasks to the workers.\u001B[39;00m\n\u001B[0;32m   1950\u001B[0m \u001B[38;5;28mnext\u001B[39m(output)\n\u001B[1;32m-> 1952\u001B[0m \u001B[38;5;28;01mreturn\u001B[39;00m output \u001B[38;5;28;01mif\u001B[39;00m \u001B[38;5;28mself\u001B[39m\u001B[38;5;241m.\u001B[39mreturn_generator \u001B[38;5;28;01melse\u001B[39;00m \u001B[38;5;28mlist\u001B[39m(output)\n",
      "File \u001B[1;32m~\\delayed_reactant_labeling\\venv311\\Lib\\site-packages\\joblib\\parallel.py:1595\u001B[0m, in \u001B[0;36mParallel._get_outputs\u001B[1;34m(self, iterator, pre_dispatch)\u001B[0m\n\u001B[0;32m   1592\u001B[0m     \u001B[38;5;28;01myield\u001B[39;00m\n\u001B[0;32m   1594\u001B[0m     \u001B[38;5;28;01mwith\u001B[39;00m \u001B[38;5;28mself\u001B[39m\u001B[38;5;241m.\u001B[39m_backend\u001B[38;5;241m.\u001B[39mretrieval_context():\n\u001B[1;32m-> 1595\u001B[0m         \u001B[38;5;28;01myield from\u001B[39;00m \u001B[38;5;28mself\u001B[39m\u001B[38;5;241m.\u001B[39m_retrieve()\n\u001B[0;32m   1597\u001B[0m \u001B[38;5;28;01mexcept\u001B[39;00m \u001B[38;5;167;01mGeneratorExit\u001B[39;00m:\n\u001B[0;32m   1598\u001B[0m     \u001B[38;5;66;03m# The generator has been garbage collected before being fully\u001B[39;00m\n\u001B[0;32m   1599\u001B[0m     \u001B[38;5;66;03m# consumed. This aborts the remaining tasks if possible and warn\u001B[39;00m\n\u001B[0;32m   1600\u001B[0m     \u001B[38;5;66;03m# the user if necessary.\u001B[39;00m\n\u001B[0;32m   1601\u001B[0m     \u001B[38;5;28mself\u001B[39m\u001B[38;5;241m.\u001B[39m_exception \u001B[38;5;241m=\u001B[39m \u001B[38;5;28;01mTrue\u001B[39;00m\n",
      "File \u001B[1;32m~\\delayed_reactant_labeling\\venv311\\Lib\\site-packages\\joblib\\parallel.py:1707\u001B[0m, in \u001B[0;36mParallel._retrieve\u001B[1;34m(self)\u001B[0m\n\u001B[0;32m   1702\u001B[0m \u001B[38;5;66;03m# If the next job is not ready for retrieval yet, we just wait for\u001B[39;00m\n\u001B[0;32m   1703\u001B[0m \u001B[38;5;66;03m# async callbacks to progress.\u001B[39;00m\n\u001B[0;32m   1704\u001B[0m \u001B[38;5;28;01mif\u001B[39;00m ((\u001B[38;5;28mlen\u001B[39m(\u001B[38;5;28mself\u001B[39m\u001B[38;5;241m.\u001B[39m_jobs) \u001B[38;5;241m==\u001B[39m \u001B[38;5;241m0\u001B[39m) \u001B[38;5;129;01mor\u001B[39;00m\n\u001B[0;32m   1705\u001B[0m     (\u001B[38;5;28mself\u001B[39m\u001B[38;5;241m.\u001B[39m_jobs[\u001B[38;5;241m0\u001B[39m]\u001B[38;5;241m.\u001B[39mget_status(\n\u001B[0;32m   1706\u001B[0m         timeout\u001B[38;5;241m=\u001B[39m\u001B[38;5;28mself\u001B[39m\u001B[38;5;241m.\u001B[39mtimeout) \u001B[38;5;241m==\u001B[39m TASK_PENDING)):\n\u001B[1;32m-> 1707\u001B[0m     time\u001B[38;5;241m.\u001B[39msleep(\u001B[38;5;241m0.01\u001B[39m)\n\u001B[0;32m   1708\u001B[0m     \u001B[38;5;28;01mcontinue\u001B[39;00m\n\u001B[0;32m   1710\u001B[0m \u001B[38;5;66;03m# We need to be careful: the job list can be filling up as\u001B[39;00m\n\u001B[0;32m   1711\u001B[0m \u001B[38;5;66;03m# we empty it and Python list are not thread-safe by\u001B[39;00m\n\u001B[0;32m   1712\u001B[0m \u001B[38;5;66;03m# default hence the use of the lock\u001B[39;00m\n",
      "\u001B[1;31mKeyboardInterrupt\u001B[0m: "
     ]
    }
   ],
   "source": [
    "for k1 in rate_values:\n",
    "    for kr1 in rate_values:\n",
    "        for k2 in rate_values:\n",
    "            try:\n",
    "                explore_boundary(k1, kr1, k2)\n",
    "            except Exception as e:\n",
    "                print(e)"
   ],
   "metadata": {
    "collapsed": false,
    "ExecuteTime": {
     "end_time": "2023-11-01T10:58:52.197183600Z",
     "start_time": "2023-11-01T10:57:32.952645400Z"
    }
   }
  },
  {
   "cell_type": "code",
   "execution_count": 42,
   "outputs": [
    {
     "name": "stderr",
     "output_type": "stream",
     "text": [
      "500it [00:06, 71.53it/s]\n",
      "500it [00:07, 68.87it/s]\n",
      "500it [00:06, 71.47it/s]\n",
      "500it [00:06, 73.56it/s]\n",
      "500it [00:07, 71.30it/s]\n",
      "500it [00:07, 70.06it/s]\n",
      "500it [00:06, 73.48it/s]\n",
      "500it [00:06, 72.01it/s]\n",
      "500it [00:07, 70.84it/s]\n",
      "500it [00:07, 69.18it/s]\n",
      "500it [00:08, 62.32it/s]\n",
      "500it [00:08, 59.26it/s]\n",
      "500it [00:07, 69.19it/s]\n",
      "500it [00:07, 66.32it/s]\n",
      "500it [00:08, 62.45it/s]\n",
      "500it [00:07, 69.35it/s]\n",
      "500it [00:07, 70.24it/s]\n",
      "500it [00:07, 63.28it/s]\n",
      "500it [00:07, 69.67it/s]\n",
      "500it [00:07, 70.52it/s]\n",
      "500it [00:07, 70.38it/s]\n",
      "500it [00:07, 69.08it/s]\n",
      "500it [00:11, 43.97it/s]\n",
      "500it [00:07, 70.03it/s]\n",
      "500it [00:07, 70.95it/s]\n",
      "500it [00:07, 64.29it/s]\n",
      "500it [00:07, 69.07it/s]\n"
     ]
    }
   ],
   "source": [
    "from delayed_reactant_labeling.optimize import OptimizerProgress\n",
    "\n",
    "    # error / run\n",
    "    fig, ax = VMS.show_error_all_runs()\n",
    "    ax.set_ylabel(\"error\")\n",
    "    eq = VMS.complete_found_error < 1.005 * VMS.complete_found_error.min()\n",
    "    ax_ins = ax.inset_axes([0.15, 0.5, 0.4, 0.4])\n",
    "    ax_ins.scatter(np.arange(sum(eq)), sorted(VMS.complete_found_error[eq]))\n",
    "    ax.indicate_inset_zoom(ax_ins, edgecolor='black')\n",
    "    ax.set_title(f\"Error using real rate constants: {base_error:.4f}\")\n",
    "    fig.savefig(f'{path}/error_per_run.png', dpi=500)\n",
    "    plt.close(fig)\n",
    "\n",
    "    # k values for best runs\n",
    "    fig, axs = plt.subplots(3, 1, layout='tight', figsize=(8, 6))\n",
    "    for i in range(3):\n",
    "        ax = axs[i]\n",
    "        eq = np.where(VMS.complete_found_error < VMS.complete_found_error.min()*1.005)\n",
    "        best_X = VMS.complete_optimal_X[eq]\n",
    "        sns.histplot(best_X[:, i], ax=ax)\n",
    "        yl, yu = ax.get_ylim()\n",
    "        k = list(rate_constants_real.values())[i]\n",
    "        ax.plot([k, k], [yl, yu], label='true', color=\"tab:orange\")\n",
    "        ax.set_ylim(yl, yu)\n",
    "        ax.set_title(VMS.x_description[i])\n",
    "    axs[0].legend()\n",
    "    fig.savefig(f'{path}/best_ks.png', dpi=500)\n",
    "    plt.close(fig)\n",
    "\n",
    "    fig, ax = VMS.show_rate_constants(max_error=VMS.complete_found_error.min()*1.01, index_constant_values=None)\n",
    "    ax.set_yscale(\"linear\")\n",
    "    ax.scatter([1, 2, 3], list(rate_constants_real.values()), label=\"true\")\n",
    "    ax.legend()\n",
    "    fig.savefig(f'{path}/rate_constants_boxplot.png', dpi=500)\n",
    "    plt.close(fig)\n",
    "\n",
    "data = []\n",
    "\n",
    "for k1 in rate_values:\n",
    "    for kr1 in rate_values:\n",
    "        for k2 in rate_values:\n",
    "            path = f'optimization/example_model_boundaries/k1_{k1}_kr1_{kr1}_k2_{k2}/multiple_guess/'\n",
    "\n",
    "            try:\n",
    "                VMS = VisualizeMultipleSolutions(path)\n",
    "            except Exception as e:\n",
    "                print(path)\n",
    "                print(e)\n",
    "                continue\n",
    "\n",
    "            best_run = VMS.complete_found_error.argmin()\n",
    "            best_error = VMS.complete_found_error.min()\n",
    "            eq = VMS.complete_found_error < best_error * 1.01\n",
    "            mean_ks = VMS.complete_optimal_X[eq].mean()\n",
    "\n",
    "            data.append([\n",
    "                k1,\n",
    "                kr1,\n",
    "                k2,\n",
    "                best_error,\n",
    "                *VMS.complete_optimal_X[best_run] / np.array([k1, kr1, k2]),  # k found / k real\n",
    "                VMS.complete_found_error[eq].mean(),\n",
    "                VMS.complete_found_error[eq].std(),\n",
    "                sum(eq),\n",
    "                * VMS.complete_optimal_X[eq].mean(axis=0) / np.array([k1, kr1, k2]),\n",
    "            ])"
   ],
   "metadata": {
    "collapsed": false,
    "ExecuteTime": {
     "end_time": "2023-11-01T09:48:17.595663900Z",
     "start_time": "2023-11-01T09:44:56.375242200Z"
    }
   }
  },
  {
   "cell_type": "code",
   "execution_count": 44,
   "outputs": [],
   "source": [
    "df = pd.DataFrame(data, columns=['k1', 'k-1', 'k2', 'best error', 'best k1/real', 'best k-1/real', 'best k2/real', 'mean_good_error', 'std_good_error', '#good runs',\n",
    "                                 'good k1/real', 'good k-1/real', 'good k2/real'])"
   ],
   "metadata": {
    "collapsed": false,
    "ExecuteTime": {
     "end_time": "2023-11-01T09:48:50.178453300Z",
     "start_time": "2023-11-01T09:48:50.147374100Z"
    }
   }
  },
  {
   "cell_type": "code",
   "execution_count": 50,
   "outputs": [
    {
     "data": {
      "text/plain": "      k1   k-1    k2  mean_good_error  std_good_error  #good runs  \\\n0    0.1   0.1   0.1         0.114259    1.408731e-04         106   \n1    0.1   0.1   1.0         0.099282    1.597231e-04         155   \n2    0.1   0.1  10.0         0.095606    1.635809e-04         171   \n3    0.1   1.0   0.1         0.117287    3.823947e-04         441   \n4    0.1   1.0   1.0         0.106535    4.788973e-05         134   \n5    0.1   1.0  10.0         0.097067    1.166605e-04         157   \n6    0.1  10.0   0.1         0.117817    5.935360e-05         460   \n7    0.1  10.0   1.0         0.116052    2.364129e-04         460   \n8    0.1  10.0  10.0         0.105427    2.692828e-05         135   \n9    1.0   0.1   0.1         0.103298    1.494560e-04         146   \n10   1.0   0.1   1.0         0.052398    4.861830e-05          74   \n11   1.0   0.1  10.0         0.044149    9.217194e-05         155   \n12   1.0   1.0   0.1         0.109229    8.270256e-05         141   \n13   1.0   1.0   1.0         0.063096    1.554258e-04          95   \n14   1.0   1.0  10.0         0.045464    7.890037e-05         154   \n15   1.0  10.0   0.1         0.116340    2.418676e-04         461   \n16   1.0  10.0   1.0         0.098899    9.394704e-05         158   \n17   1.0  10.0  10.0         0.057252    9.099922e-05         167   \n18  10.0   0.1   0.1         0.101064    4.007334e-06          40   \n19  10.0   0.1   1.0         0.507852    2.232969e-11          19   \n20  10.0   0.1  10.0         0.386218    6.243786e-04         446   \n21  10.0   1.0   0.1         0.102712    1.144193e-04          51   \n22  10.0   1.0   1.0         0.291928    6.444394e-04         151   \n23  10.0   1.0  10.0         0.409153    6.247000e-04         446   \n24  10.0  10.0   0.1         0.109122    1.916009e-04         152   \n25  10.0  10.0   1.0         0.053353    6.797184e-05          16   \n26  10.0  10.0  10.0         0.522036    9.694343e-04         155   \n\n    good k1/real  good k-1/real  good k2/real  \n0       0.488479       0.064254      1.938381  \n1      42.852323       2.450200      0.811151  \n2      93.821364     143.196559      4.351374  \n3       4.883236       0.589848      5.527144  \n4      51.750906       0.534493      1.359461  \n5      72.178929      16.321849      4.354885  \n6      19.894981       1.491178    136.032819  \n7      21.278619       1.299486     14.133602  \n8     131.132748       3.500255      7.518519  \n9       2.711250       0.275056      1.772637  \n10      0.926634       0.327104      1.068701  \n11      6.065840     125.326103      5.119748  \n12      5.279278       0.309185      7.960397  \n13      0.648347       0.245330      1.767639  \n14      4.841397      11.879340      5.123247  \n15      1.935072       1.295330    134.333183  \n16      9.178853       1.474888     43.586603  \n17      5.512545       1.291949      4.699539  \n18      1.787555       1.027557      1.013235  \n19     10.000000      99.800966      0.185304  \n20      1.322870     633.591594      5.285249  \n21      3.503947       0.973802      0.980134  \n22      0.775092      10.032169     38.918554  \n23      1.322870      62.357821      5.320543  \n24      1.220499       1.391887    450.947574  \n25      6.738450       5.815808      0.907011  \n26      1.735379       1.358062      8.195820  ",
      "text/html": "<div>\n<style scoped>\n    .dataframe tbody tr th:only-of-type {\n        vertical-align: middle;\n    }\n\n    .dataframe tbody tr th {\n        vertical-align: top;\n    }\n\n    .dataframe thead th {\n        text-align: right;\n    }\n</style>\n<table border=\"1\" class=\"dataframe\">\n  <thead>\n    <tr style=\"text-align: right;\">\n      <th></th>\n      <th>k1</th>\n      <th>k-1</th>\n      <th>k2</th>\n      <th>mean_good_error</th>\n      <th>std_good_error</th>\n      <th>#good runs</th>\n      <th>good k1/real</th>\n      <th>good k-1/real</th>\n      <th>good k2/real</th>\n    </tr>\n  </thead>\n  <tbody>\n    <tr>\n      <th>0</th>\n      <td>0.1</td>\n      <td>0.1</td>\n      <td>0.1</td>\n      <td>0.114259</td>\n      <td>1.408731e-04</td>\n      <td>106</td>\n      <td>0.488479</td>\n      <td>0.064254</td>\n      <td>1.938381</td>\n    </tr>\n    <tr>\n      <th>1</th>\n      <td>0.1</td>\n      <td>0.1</td>\n      <td>1.0</td>\n      <td>0.099282</td>\n      <td>1.597231e-04</td>\n      <td>155</td>\n      <td>42.852323</td>\n      <td>2.450200</td>\n      <td>0.811151</td>\n    </tr>\n    <tr>\n      <th>2</th>\n      <td>0.1</td>\n      <td>0.1</td>\n      <td>10.0</td>\n      <td>0.095606</td>\n      <td>1.635809e-04</td>\n      <td>171</td>\n      <td>93.821364</td>\n      <td>143.196559</td>\n      <td>4.351374</td>\n    </tr>\n    <tr>\n      <th>3</th>\n      <td>0.1</td>\n      <td>1.0</td>\n      <td>0.1</td>\n      <td>0.117287</td>\n      <td>3.823947e-04</td>\n      <td>441</td>\n      <td>4.883236</td>\n      <td>0.589848</td>\n      <td>5.527144</td>\n    </tr>\n    <tr>\n      <th>4</th>\n      <td>0.1</td>\n      <td>1.0</td>\n      <td>1.0</td>\n      <td>0.106535</td>\n      <td>4.788973e-05</td>\n      <td>134</td>\n      <td>51.750906</td>\n      <td>0.534493</td>\n      <td>1.359461</td>\n    </tr>\n    <tr>\n      <th>5</th>\n      <td>0.1</td>\n      <td>1.0</td>\n      <td>10.0</td>\n      <td>0.097067</td>\n      <td>1.166605e-04</td>\n      <td>157</td>\n      <td>72.178929</td>\n      <td>16.321849</td>\n      <td>4.354885</td>\n    </tr>\n    <tr>\n      <th>6</th>\n      <td>0.1</td>\n      <td>10.0</td>\n      <td>0.1</td>\n      <td>0.117817</td>\n      <td>5.935360e-05</td>\n      <td>460</td>\n      <td>19.894981</td>\n      <td>1.491178</td>\n      <td>136.032819</td>\n    </tr>\n    <tr>\n      <th>7</th>\n      <td>0.1</td>\n      <td>10.0</td>\n      <td>1.0</td>\n      <td>0.116052</td>\n      <td>2.364129e-04</td>\n      <td>460</td>\n      <td>21.278619</td>\n      <td>1.299486</td>\n      <td>14.133602</td>\n    </tr>\n    <tr>\n      <th>8</th>\n      <td>0.1</td>\n      <td>10.0</td>\n      <td>10.0</td>\n      <td>0.105427</td>\n      <td>2.692828e-05</td>\n      <td>135</td>\n      <td>131.132748</td>\n      <td>3.500255</td>\n      <td>7.518519</td>\n    </tr>\n    <tr>\n      <th>9</th>\n      <td>1.0</td>\n      <td>0.1</td>\n      <td>0.1</td>\n      <td>0.103298</td>\n      <td>1.494560e-04</td>\n      <td>146</td>\n      <td>2.711250</td>\n      <td>0.275056</td>\n      <td>1.772637</td>\n    </tr>\n    <tr>\n      <th>10</th>\n      <td>1.0</td>\n      <td>0.1</td>\n      <td>1.0</td>\n      <td>0.052398</td>\n      <td>4.861830e-05</td>\n      <td>74</td>\n      <td>0.926634</td>\n      <td>0.327104</td>\n      <td>1.068701</td>\n    </tr>\n    <tr>\n      <th>11</th>\n      <td>1.0</td>\n      <td>0.1</td>\n      <td>10.0</td>\n      <td>0.044149</td>\n      <td>9.217194e-05</td>\n      <td>155</td>\n      <td>6.065840</td>\n      <td>125.326103</td>\n      <td>5.119748</td>\n    </tr>\n    <tr>\n      <th>12</th>\n      <td>1.0</td>\n      <td>1.0</td>\n      <td>0.1</td>\n      <td>0.109229</td>\n      <td>8.270256e-05</td>\n      <td>141</td>\n      <td>5.279278</td>\n      <td>0.309185</td>\n      <td>7.960397</td>\n    </tr>\n    <tr>\n      <th>13</th>\n      <td>1.0</td>\n      <td>1.0</td>\n      <td>1.0</td>\n      <td>0.063096</td>\n      <td>1.554258e-04</td>\n      <td>95</td>\n      <td>0.648347</td>\n      <td>0.245330</td>\n      <td>1.767639</td>\n    </tr>\n    <tr>\n      <th>14</th>\n      <td>1.0</td>\n      <td>1.0</td>\n      <td>10.0</td>\n      <td>0.045464</td>\n      <td>7.890037e-05</td>\n      <td>154</td>\n      <td>4.841397</td>\n      <td>11.879340</td>\n      <td>5.123247</td>\n    </tr>\n    <tr>\n      <th>15</th>\n      <td>1.0</td>\n      <td>10.0</td>\n      <td>0.1</td>\n      <td>0.116340</td>\n      <td>2.418676e-04</td>\n      <td>461</td>\n      <td>1.935072</td>\n      <td>1.295330</td>\n      <td>134.333183</td>\n    </tr>\n    <tr>\n      <th>16</th>\n      <td>1.0</td>\n      <td>10.0</td>\n      <td>1.0</td>\n      <td>0.098899</td>\n      <td>9.394704e-05</td>\n      <td>158</td>\n      <td>9.178853</td>\n      <td>1.474888</td>\n      <td>43.586603</td>\n    </tr>\n    <tr>\n      <th>17</th>\n      <td>1.0</td>\n      <td>10.0</td>\n      <td>10.0</td>\n      <td>0.057252</td>\n      <td>9.099922e-05</td>\n      <td>167</td>\n      <td>5.512545</td>\n      <td>1.291949</td>\n      <td>4.699539</td>\n    </tr>\n    <tr>\n      <th>18</th>\n      <td>10.0</td>\n      <td>0.1</td>\n      <td>0.1</td>\n      <td>0.101064</td>\n      <td>4.007334e-06</td>\n      <td>40</td>\n      <td>1.787555</td>\n      <td>1.027557</td>\n      <td>1.013235</td>\n    </tr>\n    <tr>\n      <th>19</th>\n      <td>10.0</td>\n      <td>0.1</td>\n      <td>1.0</td>\n      <td>0.507852</td>\n      <td>2.232969e-11</td>\n      <td>19</td>\n      <td>10.000000</td>\n      <td>99.800966</td>\n      <td>0.185304</td>\n    </tr>\n    <tr>\n      <th>20</th>\n      <td>10.0</td>\n      <td>0.1</td>\n      <td>10.0</td>\n      <td>0.386218</td>\n      <td>6.243786e-04</td>\n      <td>446</td>\n      <td>1.322870</td>\n      <td>633.591594</td>\n      <td>5.285249</td>\n    </tr>\n    <tr>\n      <th>21</th>\n      <td>10.0</td>\n      <td>1.0</td>\n      <td>0.1</td>\n      <td>0.102712</td>\n      <td>1.144193e-04</td>\n      <td>51</td>\n      <td>3.503947</td>\n      <td>0.973802</td>\n      <td>0.980134</td>\n    </tr>\n    <tr>\n      <th>22</th>\n      <td>10.0</td>\n      <td>1.0</td>\n      <td>1.0</td>\n      <td>0.291928</td>\n      <td>6.444394e-04</td>\n      <td>151</td>\n      <td>0.775092</td>\n      <td>10.032169</td>\n      <td>38.918554</td>\n    </tr>\n    <tr>\n      <th>23</th>\n      <td>10.0</td>\n      <td>1.0</td>\n      <td>10.0</td>\n      <td>0.409153</td>\n      <td>6.247000e-04</td>\n      <td>446</td>\n      <td>1.322870</td>\n      <td>62.357821</td>\n      <td>5.320543</td>\n    </tr>\n    <tr>\n      <th>24</th>\n      <td>10.0</td>\n      <td>10.0</td>\n      <td>0.1</td>\n      <td>0.109122</td>\n      <td>1.916009e-04</td>\n      <td>152</td>\n      <td>1.220499</td>\n      <td>1.391887</td>\n      <td>450.947574</td>\n    </tr>\n    <tr>\n      <th>25</th>\n      <td>10.0</td>\n      <td>10.0</td>\n      <td>1.0</td>\n      <td>0.053353</td>\n      <td>6.797184e-05</td>\n      <td>16</td>\n      <td>6.738450</td>\n      <td>5.815808</td>\n      <td>0.907011</td>\n    </tr>\n    <tr>\n      <th>26</th>\n      <td>10.0</td>\n      <td>10.0</td>\n      <td>10.0</td>\n      <td>0.522036</td>\n      <td>9.694343e-04</td>\n      <td>155</td>\n      <td>1.735379</td>\n      <td>1.358062</td>\n      <td>8.195820</td>\n    </tr>\n  </tbody>\n</table>\n</div>"
     },
     "execution_count": 50,
     "metadata": {},
     "output_type": "execute_result"
    }
   ],
   "source": [
    "df.iloc[:, [0, 1, 2, 7, 8, 9, 10, 11, 12]]"
   ],
   "metadata": {
    "collapsed": false,
    "ExecuteTime": {
     "end_time": "2023-11-01T10:08:01.800601600Z",
     "start_time": "2023-11-01T10:08:01.746852400Z"
    }
   }
  },
  {
   "cell_type": "code",
   "execution_count": null,
   "outputs": [],
   "source": [],
   "metadata": {
    "collapsed": false
   }
  }
 ],
 "metadata": {
  "kernelspec": {
   "display_name": "Python 3",
   "language": "python",
   "name": "python3"
  },
  "language_info": {
   "codemirror_mode": {
    "name": "ipython",
    "version": 2
   },
   "file_extension": ".py",
   "mimetype": "text/x-python",
   "name": "python",
   "nbconvert_exporter": "python",
   "pygments_lexer": "ipython2",
   "version": "2.7.6"
  }
 },
 "nbformat": 4,
 "nbformat_minor": 0
}
